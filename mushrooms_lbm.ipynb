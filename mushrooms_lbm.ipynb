{
 "cells": [
  {
   "cell_type": "code",
   "execution_count": null,
   "metadata": {},
   "outputs": [],
   "source": [
    "!conda install -c conda-forge py-xgboost-gpu"
   ]
  },
  {
   "cell_type": "code",
   "execution_count": 1,
   "metadata": {},
   "outputs": [
    {
     "name": "stdout",
     "output_type": "stream",
     "text": [
      "No Nvidia GPU in system!\n"
     ]
    }
   ],
   "source": [
    "import pandas as pd\n",
    "import numpy as np\n",
    "import subprocess\n",
    "\n",
    "is_tunning = True\n",
    "device = \"cpu\"\n",
    "goal = \"binary\"\n",
    "objective_mapping = {\n",
    "    \"regression\": {\"metric\": \"rmse\"},\n",
    "    \"binary\": {\"metric\": \"binary_logloss\"},\n",
    "}\n",
    "try:\n",
    "    rs = subprocess.check_output(\"nvidia-smi\")\n",
    "    device = \"gpu\" if rs is not None else \"cpu\"\n",
    "    print(f\"device: {device}\")\n",
    "except (\n",
    "    Exception\n",
    "):  # this command not being found can raise quite a few different errors depending on the configuration\n",
    "    print(\"No Nvidia GPU in system!\")"
   ]
  },
  {
   "cell_type": "code",
   "execution_count": 2,
   "metadata": {},
   "outputs": [],
   "source": [
    "train = pd.read_csv(\"train.csv\")\n",
    "test = pd.read_csv(\"test.csv\")"
   ]
  },
  {
   "cell_type": "code",
   "execution_count": 3,
   "metadata": {},
   "outputs": [],
   "source": [
    "from sklearn.model_selection import train_test_split\n",
    "\n",
    "target = \"class\"\n",
    "X_train, X_val, y_train, y_val = train_test_split(\n",
    "    train.drop(columns=target), train[target], test_size=0.2, random_state=42\n",
    ")\n",
    "X_test = test"
   ]
  },
  {
   "cell_type": "code",
   "execution_count": 4,
   "metadata": {},
   "outputs": [],
   "source": [
    "categorical_columns = train.drop(columns=target).select_dtypes(include=\"object\").columns.to_list()\n",
    "numerical_cols = train.drop(columns=\"id\").select_dtypes(include=\"number\").columns.to_list()"
   ]
  },
  {
   "cell_type": "code",
   "execution_count": 5,
   "metadata": {},
   "outputs": [],
   "source": [
    "from sklearn.impute import SimpleImputer\n",
    "from sklearn.preprocessing import OneHotEncoder\n",
    "from sklearn.pipeline import Pipeline\n",
    "from sklearn.compose import ColumnTransformer\n",
    "\n",
    "\n",
    "categorical_transformer = Pipeline(\n",
    "    steps=[\n",
    "        (\"imputer\", SimpleImputer(strategy=\"most_frequent\")),\n",
    "        (\"onehot\", OneHotEncoder(handle_unknown=\"ignore\")),\n",
    "    ]\n",
    ")\n",
    "# Combine the preprocessing steps into a ColumnTransformer\n",
    "preprocessor = ColumnTransformer(\n",
    "    transformers=[(\"cat\", categorical_transformer, categorical_columns)]\n",
    ")\n",
    "\n",
    "pipeline = Pipeline(steps=[(\"preprocessor\", preprocessor)])\n",
    "pipeline.fit_transform(X_train)\n",
    "# Transform both the training and testing data\n",
    "X_train_transformed = pipeline.transform(X_train).toarray()\n",
    "X_test_transformed = pipeline.transform(X_test).toarray()\n",
    "X_val_transformed = pipeline.transform(X_val).toarray()\n",
    "\n",
    "# Convert transformed features and encoded targets to DataFrames for easier handling\n",
    "X_train = pd.DataFrame(\n",
    "    X_train_transformed,\n",
    "    columns=pipeline.named_steps[\"preprocessor\"]\n",
    "    .named_transformers_[\"cat\"]\n",
    "    .named_steps[\"onehot\"]\n",
    "    .get_feature_names_out(),\n",
    ")\n",
    "X_test = pd.DataFrame(\n",
    "    X_test_transformed,\n",
    "    columns=pipeline.named_steps[\"preprocessor\"]\n",
    "    .named_transformers_[\"cat\"]\n",
    "    .named_steps[\"onehot\"]\n",
    "    .get_feature_names_out(),\n",
    ")\n",
    "X_val = pd.DataFrame(\n",
    "    X_val_transformed,\n",
    "    columns=pipeline.named_steps[\"preprocessor\"]\n",
    "    .named_transformers_[\"cat\"]\n",
    "    .named_steps[\"onehot\"]\n",
    "    .get_feature_names_out(),\n",
    ")"
   ]
  },
  {
   "cell_type": "code",
   "execution_count": 6,
   "metadata": {},
   "outputs": [],
   "source": [
    "from sklearn.preprocessing import LabelBinarizer\n",
    "\n",
    "# Encode the target variable\n",
    "label_encoder = LabelBinarizer()\n",
    "y_train = label_encoder.fit_transform(y_train)\n",
    "y_val = label_encoder.transform(y_val)"
   ]
  },
  {
   "cell_type": "code",
   "execution_count": 7,
   "metadata": {},
   "outputs": [
    {
     "data": {
      "text/plain": [
       "array([[1],\n",
       "       [1],\n",
       "       [0],\n",
       "       ...,\n",
       "       [1],\n",
       "       [0],\n",
       "       [1]])"
      ]
     },
     "execution_count": 7,
     "metadata": {},
     "output_type": "execute_result"
    }
   ],
   "source": [
    "y_val"
   ]
  },
  {
   "cell_type": "code",
   "execution_count": 8,
   "metadata": {},
   "outputs": [],
   "source": [
    "import gc\n",
    "import optuna\n",
    "import lightgbm as lgb\n",
    "from datetime import datetime, timezone\n",
    "from sklearn.metrics import mean_absolute_error as mae\n",
    "import warnings\n",
    "from sklearn.metrics import r2_score\n",
    "\n",
    "\n",
    "warnings.filterwarnings(\"ignore\")\n",
    "\n",
    "metric = objective_mapping[goal][\"metric\"]\n",
    "best_params = {\n",
    "    \"objective\": goal,\n",
    "    \"metric\": metric,\n",
    "    \"boosting_type\": \"gbdt\",\n",
    "    \"device\": device,\n",
    "}\n",
    "# Create LightGBM dataset\n",
    "train_data = lgb.Dataset(\n",
    "    data=X_train,\n",
    "    label=y_train,\n",
    "    free_raw_data=False,\n",
    "    params={\"verbose\": -1},\n",
    ")\n",
    "valid_data = lgb.Dataset(\n",
    "    data=X_val,\n",
    "    label=y_val,\n",
    "    free_raw_data=False,\n",
    "    params={\"verbose\": -1},\n",
    ")\n",
    "\n",
    "\n",
    "def objective(trial):\n",
    "    hyper_parameters = {\n",
    "        **best_params,\n",
    "        **{\n",
    "            \"lambda_l1\": trial.suggest_float(\"lambda_l1\", 0.01, 0.6),\n",
    "            \"lambda_l2\": trial.suggest_float(\"lambda_l2\", 0.01, 0.6),\n",
    "            \"num_leaves\": trial.suggest_int(\"num_leaves\", 100, 256),\n",
    "            \"learning_rate\": trial.suggest_float(\"learning_rate\", 0.01, 0.3),\n",
    "            \"feature_fraction\": trial.suggest_float(\"feature_fraction\", 0.6, 0.9),\n",
    "            \"bagging_fraction\": trial.suggest_float(\"bagging_fraction\", 0.6, 0.9),\n",
    "            \"bagging_freq\": trial.suggest_int(\"bagging_freq\", 8, 16),\n",
    "            \"min_child_samples\": trial.suggest_int(\"min_child_samples\", 5, 50),\n",
    "            \"reg_alpha\": trial.suggest_loguniform(\"reg_alpha\", 1e-8, 10.0),\n",
    "            \"reg_lambda\": trial.suggest_loguniform(\"reg_lambda\", 1e-8, 10.0),\n",
    "            \"max_depth\": trial.suggest_int(\"max_depth\", 20, 64),\n",
    "        },\n",
    "    }\n",
    "\n",
    "    model = lgb.train(\n",
    "        params=hyper_parameters,\n",
    "        train_set=train_data,\n",
    "        valid_sets=[valid_data],\n",
    "        num_boost_round=4000,\n",
    "        callbacks=[\n",
    "            lgb.early_stopping(stopping_rounds=100, verbose=True),\n",
    "            lgb.log_evaluation(period=50, show_stdv=True),\n",
    "        ],\n",
    "    )\n",
    "    # Try to minimize the loss metric\n",
    "    return model.best_score[\"valid_0\"][metric]\n",
    "\n",
    "\n",
    "if is_tunning:\n",
    "    # Create or load a study\n",
    "    today = datetime.now(timezone.utc).strftime(\"%Y_%m_%d\")\n",
    "    curr_timestamp = int(datetime.now(timezone.utc).timestamp())\n",
    "    study_name = f\"study\"\n",
    "    study = optuna.create_study(\n",
    "        study_name=study_name,\n",
    "        storage=f\"sqlite:///{study_name}.db\",\n",
    "        direction=\"minimize\",\n",
    "        load_if_exists=True,\n",
    "    )\n",
    "    study.optimize(objective, n_trials=100, timeout=None, show_progress_bar=True)\n",
    "    # Print best trial\n",
    "    best_trial = study.best_trial\n",
    "    print(\"Best trial:\")\n",
    "    print(f\"  {metric}_error:\", best_trial.value)\n",
    "    print(\"  Params: \")\n",
    "    for key, value in best_trial.params.items():\n",
    "        print(\"    {}: {}\".format(key, value))\n",
    "    study_best_params = study.best_params\n",
    "    best_params.update(study_best_params)\n",
    "    best_params"
   ]
  },
  {
   "cell_type": "code",
   "execution_count": 9,
   "metadata": {},
   "outputs": [
    {
     "name": "stdout",
     "output_type": "stream",
     "text": [
      "Training best model...\n",
      "[LightGBM] [Warning] lambda_l2 is set=0.16088826846271012, reg_lambda=0.01302091719436974 will be ignored. Current value: lambda_l2=0.16088826846271012\n",
      "[LightGBM] [Warning] lambda_l1 is set=0.19488045408258128, reg_alpha=7.292284502019745 will be ignored. Current value: lambda_l1=0.19488045408258128\n",
      "[LightGBM] [Info] Number of positive: 1364404, number of negative: 1129152\n",
      "[LightGBM] [Info] Auto-choosing row-wise multi-threading, the overhead of testing was 0.121257 seconds.\n",
      "You can set `force_row_wise=true` to remove the overhead.\n",
      "And if memory is not enough, you can set `force_col_wise=true`.\n",
      "[LightGBM] [Info] Total Bins 316\n",
      "[LightGBM] [Info] Number of data points in the train set: 2493556, number of used features: 158\n",
      "Training until validation scores don't improve for 100 rounds\n",
      "[50]\tvalid_0's binary_logloss: 0.0517747\tvalid_0's mcc: 0.974335\n",
      "[100]\tvalid_0's binary_logloss: 0.0482139\tvalid_0's mcc: 0.976287\n",
      "[150]\tvalid_0's binary_logloss: 0.0475338\tvalid_0's mcc: 0.976787\n",
      "[200]\tvalid_0's binary_logloss: 0.0472676\tvalid_0's mcc: 0.977021\n",
      "[250]\tvalid_0's binary_logloss: 0.0471333\tvalid_0's mcc: 0.977147\n",
      "[300]\tvalid_0's binary_logloss: 0.0470655\tvalid_0's mcc: 0.977282\n",
      "[350]\tvalid_0's binary_logloss: 0.0470469\tvalid_0's mcc: 0.977298\n",
      "[400]\tvalid_0's binary_logloss: 0.0470208\tvalid_0's mcc: 0.977398\n",
      "[450]\tvalid_0's binary_logloss: 0.0470342\tvalid_0's mcc: 0.977382\n",
      "[500]\tvalid_0's binary_logloss: 0.0470503\tvalid_0's mcc: 0.977431\n",
      "Early stopping, best iteration is:\n",
      "[409]\tvalid_0's binary_logloss: 0.0470117\tvalid_0's mcc: 0.977398\n"
     ]
    }
   ],
   "source": [
    "# Define custom MCC evaluation function\n",
    "def mcc_eval(y_pred, train_data):\n",
    "    from sklearn.metrics import matthews_corrcoef\n",
    "\n",
    "    y_true = train_data.get_label()\n",
    "    y_pred_binary = (y_pred > 0.5).astype(int)\n",
    "    mcc = matthews_corrcoef(y_true, y_pred_binary)\n",
    "    return \"mcc\", mcc, True  # True indicates higher values are betters\n",
    "\n",
    "\n",
    "best_params = {\n",
    "    \"objective\": \"binary\",\n",
    "    \"metric\": \"binary_logloss\",\n",
    "    \"boosting_type\": \"gbdt\",\n",
    "    \"lambda_l1\": 0.11019458627539475,\n",
    "    \"lambda_l2\": 0.1554907572643459,\n",
    "    \"num_leaves\": 256,\n",
    "    \"learning_rate\": 0.010305818596596942,\n",
    "    \"feature_fraction\": 0.6278911649411257,\n",
    "    \"bagging_fraction\": 0.6910499222495768,\n",
    "    \"bagging_freq\": 9,\n",
    "    \"min_child_samples\": 37,\n",
    "    \"reg_alpha\": 0.0037881112342830815,\n",
    "    \"reg_lambda\": 0.9245246490277238,\n",
    "    \"max_depth\": 25,\n",
    "}\n",
    "print(\"Training best model...\")\n",
    "final_model = lgb.train(\n",
    "    params=best_params,\n",
    "    train_set=train_data,\n",
    "    valid_sets=[valid_data],\n",
    "    feval=mcc_eval,\n",
    "    num_boost_round=4000,\n",
    "    callbacks=[\n",
    "        lgb.early_stopping(stopping_rounds=100, verbose=True),\n",
    "        lgb.log_evaluation(period=50, show_stdv=True),\n",
    "    ],\n",
    ")\n",
    "feature_importances = final_model.feature_importance()\n",
    "y_pred = final_model.predict(X_test)"
   ]
  },
  {
   "cell_type": "code",
   "execution_count": 15,
   "metadata": {},
   "outputs": [
    {
     "ename": "NameError",
     "evalue": "name 'study' is not defined",
     "output_type": "error",
     "traceback": [
      "\u001b[0;31m---------------------------------------------------------------------------\u001b[0m",
      "\u001b[0;31mNameError\u001b[0m                                 Traceback (most recent call last)",
      "Cell \u001b[0;32mIn[15], line 1\u001b[0m\n\u001b[0;32m----> 1\u001b[0m study\u001b[38;5;241m.\u001b[39mbest_params\n",
      "\u001b[0;31mNameError\u001b[0m: name 'study' is not defined"
     ]
    }
   ],
   "source": [
    "study.best_params"
   ]
  },
  {
   "cell_type": "code",
   "execution_count": 12,
   "metadata": {},
   "outputs": [
    {
     "data": {
      "text/plain": [
       "array([0, 1, 1, ..., 1, 0, 0])"
      ]
     },
     "execution_count": 12,
     "metadata": {},
     "output_type": "execute_result"
    }
   ],
   "source": [
    "y_pred_prob = final_model.predict(X_test)\n",
    "y_pred = (y_pred_prob > 0.5).astype(int)\n",
    "classes = [label_encoder.inverse_transform(p)[0] for p in y_pred]"
   ]
  },
  {
   "cell_type": "code",
   "execution_count": 14,
   "metadata": {},
   "outputs": [],
   "source": [
    "submit_df = pd.DataFrame()\n",
    "submit_df[\"id\"] = test[\"id\"]\n",
    "submit_df[\"class\"] = classes\n",
    "submit_df.to_csv(\"submission.csv\", index=False)"
   ]
  }
 ],
 "metadata": {
  "kernelspec": {
   "display_name": "ken",
   "language": "python",
   "name": "python3"
  },
  "language_info": {
   "codemirror_mode": {
    "name": "ipython",
    "version": 3
   },
   "file_extension": ".py",
   "mimetype": "text/x-python",
   "name": "python",
   "nbconvert_exporter": "python",
   "pygments_lexer": "ipython3",
   "version": "3.11.0"
  }
 },
 "nbformat": 4,
 "nbformat_minor": 2
}
