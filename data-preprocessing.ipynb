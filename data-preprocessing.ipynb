{
 "cells": [
  {
   "cell_type": "code",
   "execution_count": 1,
   "metadata": {},
   "outputs": [],
   "source": [
    "import polars as pl\n",
    "import pandas as pd\n",
    "import seaborn as sns\n",
    "import matplotlib.pyplot as plt\n",
    "import gc\n",
    "import numpy as np\n",
    "import joblib as jl\n",
    "\n",
    "train_path = \"/home/manpm/Developers/kaggle/data/mushrooms/train.csv\"\n",
    "test_path = \"/home/manpm/Developers/kaggle/data/mushrooms/test.csv\""
   ]
  },
  {
   "cell_type": "code",
   "execution_count": 2,
   "metadata": {},
   "outputs": [],
   "source": [
    "X_train = pl.scan_csv(train_path).collect().to_pandas()\n",
    "X_test = pl.scan_csv(test_path).collect().to_pandas()\n",
    "ids = X_test[\"id\"]\n",
    "jl.dump(ids, \"submit_ids.pkl\")\n",
    "y_train = X_train[\"class\"]\n",
    "X_train.drop(columns=[\"class\", \"id\"], inplace=True, axis=1)\n",
    "X_test.drop(columns=[\"id\"], inplace=True, axis=1)\n"
   ]
  },
  {
   "cell_type": "code",
   "execution_count": 3,
   "metadata": {},
   "outputs": [],
   "source": [
    "weird_columns = [\n",
    "    \"cap-shape\",\n",
    "    \"cap-surface\",\n",
    "    \"cap-color\",\n",
    "    \"gill-attachment\",\n",
    "    \"gill-spacing\",\n",
    "    \"gill-color\",\n",
    "    \"veil-type\",\n",
    "    \"veil-color\",\n",
    "    \"has-ring\",\n",
    "    \"ring-type\",\n",
    "    \"spore-print-color\",\n",
    "    \"habitat\",\n",
    "    \"does-bruise-or-bleed\",\n",
    "    \"stem-root\",\n",
    "    \"stem-surface\",\n",
    "    \"stem-color\",\n",
    "]\n",
    "\n",
    "for col in weird_columns:\n",
    "    allowed_vals = X_test[col].unique()\n",
    "    X_train.loc[~X_train[col].isin(allowed_vals), col] = np.nan\n",
    "    X_test.loc[~X_test[col].isin(allowed_vals), col] = np.nan"
   ]
  },
  {
   "cell_type": "code",
   "execution_count": 4,
   "metadata": {},
   "outputs": [],
   "source": [
    "# from sklearn.preprocessing import PolynomialFeatures\n",
    "\n",
    "# # Creating polynomial and interaction features on training set\n",
    "# poly = PolynomialFeatures(degree=2, interaction_only=True, include_bias=False)\n",
    "# interaction_terms_train = poly.fit_transform(train[[\"class\", \"cap-diameter\"]])\n",
    "# interaction_terms_test = poly.transform(test[[\"class\", \"cap-diameter\"]])\n",
    "\n",
    "# interaction_df_train = pd.DataFrame(\n",
    "#     interaction_terms_train, columns=poly.get_feature_names_out([\"size\", \"num_rooms\"])\n",
    "# )\n",
    "# interaction_df_test = pd.DataFrame(\n",
    "#     interaction_terms_test, columns=poly.get_feature_names_out([\"size\", \"num_rooms\"])\n",
    "# )\n",
    "\n",
    "# # Add the interaction terms\n",
    "# X_train = pd.concat([train, interaction_df_train], axis=1)\n",
    "# X_test = pd.concat([test, interaction_df_test], axis=1)"
   ]
  },
  {
   "cell_type": "code",
   "execution_count": 5,
   "metadata": {},
   "outputs": [
    {
     "data": {
      "text/plain": [
       "0"
      ]
     },
     "execution_count": 5,
     "metadata": {},
     "output_type": "execute_result"
    }
   ],
   "source": [
    "from sklearn.impute import SimpleImputer\n",
    "from sklearn.preprocessing import (\n",
    "    OneHotEncoder,\n",
    "    StandardScaler,\n",
    "    LabelBinarizer,\n",
    "    MinMaxScaler,\n",
    ")\n",
    "from sklearn.decomposition import PCA\n",
    "from sklearn.pipeline import Pipeline\n",
    "from sklearn.compose import ColumnTransformer\n",
    "from sklearn.model_selection import train_test_split\n",
    "\n",
    "target = \"class\"\n",
    "\n",
    "categorical_cols = X_train.select_dtypes(include=\"object\").columns.to_list()\n",
    "\n",
    "numerical_cols = X_train.select_dtypes(include=\"number\").columns.to_list()\n",
    "\n",
    "# Create the numerical and categorical pipelines\n",
    "numerical_pipeline = Pipeline(\n",
    "    steps=[\n",
    "        (\"num_imputer\", SimpleImputer(strategy=\"mean\")),\n",
    "        (\"scaler\", StandardScaler()),\n",
    "        # (\"minmax\", MinMaxScaler()),\n",
    "    ]\n",
    ")\n",
    "\n",
    "categorical_pipeline = Pipeline(\n",
    "    steps=[\n",
    "        (\"cat_imputer\", SimpleImputer(strategy=\"most_frequent\")),\n",
    "        (\"onehot\", OneHotEncoder(handle_unknown=\"ignore\")),\n",
    "    ]\n",
    ")\n",
    "\n",
    "# Combine the pipelines into a ColumnTransformer\n",
    "preprocessor = ColumnTransformer(\n",
    "    transformers=[\n",
    "        (\"num\", numerical_pipeline, numerical_cols),\n",
    "        (\"cat\", categorical_pipeline, categorical_cols),\n",
    "    ]\n",
    ")\n",
    "\n",
    "# Create the full pipeline with the XGBoost model\n",
    "preprocessing_pipeline = Pipeline(\n",
    "    steps=[\n",
    "        (\"preprocessor\", preprocessor),\n",
    "    ]\n",
    ")\n",
    "\n",
    "# X_all = pd.concat([X_train, X_test])\n",
    "\n",
    "# Preprocess the data\n",
    "# X_train = pl.from_pandas(X_train)\n",
    "# preprocessing_pipeline.set_output(transform=\"polars\")\n",
    "# X_all = pl.from_pandas(X_all)\n",
    "# preprocessing_pipeline.fit(X_all)\n",
    "X_train = preprocessing_pipeline.fit_transform(X_train).toarray()\n",
    "gc.collect()\n",
    "\n",
    "\n",
    "# X_test_transformed = preprocessor.transform(X_test)\n",
    "# X_val_transformed = preprocessor.transform(X_val)\n",
    "# Binarize the target labels\n",
    "lb = LabelBinarizer()\n",
    "\n",
    "y_train = lb.fit_transform(y_train)\n",
    "\n",
    "# prepare data for training\n",
    "# dtrain = xgb.DMatrix(X_train_transformed, label=y_train_binarized)\n",
    "# dval = xgb.DMatrix(X_val_transformed, label=y_val_binarized)\n",
    "# dtest = xgb.DMatrix(X_test_transformed)\n",
    "\n",
    "gc.collect()"
   ]
  },
  {
   "cell_type": "code",
   "execution_count": 6,
   "metadata": {},
   "outputs": [
    {
     "ename": "",
     "evalue": "",
     "output_type": "error",
     "traceback": [
      "\u001b[1;31mThe Kernel crashed while executing code in the current cell or a previous cell. \n",
      "\u001b[1;31mPlease review the code in the cell(s) to identify a possible cause of the failure. \n",
      "\u001b[1;31mClick <a href='https://aka.ms/vscodeJupyterKernelCrash'>here</a> for more info. \n",
      "\u001b[1;31mView Jupyter <a href='command:jupyter.viewOutput'>log</a> for further details."
     ]
    }
   ],
   "source": [
    "X_test = preprocessing_pipeline.transform(X_test).toarray()"
   ]
  },
  {
   "cell_type": "markdown",
   "metadata": {},
   "source": [
    "## X train finalize"
   ]
  },
  {
   "cell_type": "code",
   "execution_count": 7,
   "metadata": {},
   "outputs": [],
   "source": [
    "import joblib as jl\n",
    "\n",
    "\n",
    "def finalize_X(X, cols):\n",
    "\n",
    "    scaled_X = pd.DataFrame(X, columns=cols)\n",
    "    not_null_columns = []\n",
    "    for c in scaled_X.columns.to_list():\n",
    "        if not c.endswith(\"None\"):\n",
    "            not_null_columns.append(c)\n",
    "    X = scaled_X[not_null_columns]\n",
    "    return X\n",
    "\n",
    "\n",
    "cols = preprocessing_pipeline.get_feature_names_out()\n",
    "X_train = finalize_X(X_train, cols)\n",
    "X_test = finalize_X(X_test, cols)\n",
    "\n",
    "jl.dump(X_train, \"X_train.pkl\")\n",
    "jl.dump(y_train, \"y_train.pkl\")\n",
    "jl.dump(X_test, \"X_test.pkl\")\n",
    "\n",
    "del X_train, y_train\n",
    "gc.collect()"
   ]
  },
  {
   "cell_type": "code",
   "execution_count": null,
   "metadata": {},
   "outputs": [],
   "source": [
    "X_test = finalize_X(X_test, cols)\n",
    "jl.dump(X_test, \"X_test.pkl\")"
   ]
  },
  {
   "cell_type": "code",
   "execution_count": null,
   "metadata": {},
   "outputs": [],
   "source": [
    "# plt.figure(figsize=(16, 10))\n",
    "# sns.heatmap(scaled_X_train, annot=True)\n",
    "# plt.show()"
   ]
  },
  {
   "cell_type": "code",
   "execution_count": null,
   "metadata": {},
   "outputs": [],
   "source": [
    "# from sklearn.preprocessing import PolynomialFeatures\n",
    "\n",
    "# numerical_cols\n",
    "# poly = PolynomialFeatures(degree=2, interaction_only=True, include_bias=False)\n",
    "# interaction_terms_train = poly.fit_transform(X_train)"
   ]
  },
  {
   "cell_type": "code",
   "execution_count": null,
   "metadata": {},
   "outputs": [],
   "source": [
    "# interaction_df_train = pd.DataFrame(\n",
    "#     interaction_terms_train, columns=poly.get_feature_names_out()\n",
    "# )\n",
    "# X_train = pd.concat([X_train, interaction_df_train], axis=1)\n",
    "# gc.collect()"
   ]
  }
 ],
 "metadata": {
  "kernelspec": {
   "display_name": "ken",
   "language": "python",
   "name": "python3"
  },
  "language_info": {
   "codemirror_mode": {
    "name": "ipython",
    "version": 3
   },
   "file_extension": ".py",
   "mimetype": "text/x-python",
   "name": "python",
   "nbconvert_exporter": "python",
   "pygments_lexer": "ipython3",
   "version": "3.11.9"
  }
 },
 "nbformat": 4,
 "nbformat_minor": 2
}
