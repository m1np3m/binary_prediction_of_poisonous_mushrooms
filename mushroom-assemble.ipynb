{
 "cells": [
  {
   "cell_type": "code",
   "execution_count": null,
   "metadata": {},
   "outputs": [],
   "source": [
    "    print(\"loading data\")\n",
    "    # Prepare data\n",
    "    train = pd.read_parquet(\"./data/train.parquet\").head(10000)\n",
    "    test = pd.read_parquet(\"./data/test.parquet\")\n",
    "    train = TabularDataset(train)\n",
    "    auto_ml_test = TabularDataset(test)\n",
    "\n",
    "    # Hyper parameters\n",
    "\n",
    "    # Training\n",
    "    then = time()\n",
    "    predictor = TabularPredictor(\n",
    "        label=\"target\",\n",
    "        problem_type=problem_type,\n",
    "        eval_metric=eval_metric,\n",
    "    ).fit(\n",
    "        train_data=train,\n",
    "        presets=[\"best_quality\"],\n",
    "        time_limit=time_limit,\n",
    "        num_gpus=1,\n",
    "        hyperparameters=\"multimodal\",\n",
    "    )"
   ]
  }
 ],
 "metadata": {
  "language_info": {
   "name": "python"
  }
 },
 "nbformat": 4,
 "nbformat_minor": 2
}
