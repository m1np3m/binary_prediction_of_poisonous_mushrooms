{
 "cells": [
  {
   "cell_type": "markdown",
   "metadata": {},
   "source": [
    "## Constants"
   ]
  },
  {
   "cell_type": "code",
   "execution_count": 1,
   "metadata": {},
   "outputs": [
    {
     "data": {
      "text/plain": [
       "{'device': 'cuda',\n",
       " 'verbosity': 0,\n",
       " 'objective': 'binary:logistic',\n",
       " 'tree_method': 'hist',\n",
       " 'eta': 0.0696294726051571,\n",
       " 'max_depth': 0,\n",
       " 'min_child_weight': 1,\n",
       " 'gamma': 0.044230646284796976,\n",
       " 'subsample': 0.9405269471473167,\n",
       " 'colsample_bytree': 0.2999355523666192,\n",
       " 'lambda': 0.9746051811186938,\n",
       " 'alpha': 4.210861941737071}"
      ]
     },
     "execution_count": 1,
     "metadata": {},
     "output_type": "execute_result"
    }
   ],
   "source": [
    "import sys, os\n",
    "import pandas as pd\n",
    "import polars as pl\n",
    "import numpy as np\n",
    "import subprocess\n",
    "import gc\n",
    "import optuna\n",
    "from datetime import datetime, timezone\n",
    "import warnings\n",
    "import xgboost as xgb\n",
    "import joblib as jl\n",
    "from sklearn.model_selection import train_test_split\n",
    "import warnings\n",
    "from sklearn.metrics import matthews_corrcoef\n",
    "from mlflow.models import infer_signature\n",
    "import mlflow\n",
    "import random\n",
    "from sklearn.impute import SimpleImputer\n",
    "from sklearn.preprocessing import OneHotEncoder, StandardScaler, LabelBinarizer\n",
    "from sklearn.pipeline import Pipeline\n",
    "from sklearn.compose import ColumnTransformer\n",
    "from sklearn.model_selection import StratifiedKFold\n",
    "from typing import Literal\n",
    "today = datetime.now(timezone.utc).strftime(\"%Y_%m_%d\")\n",
    "warnings.filterwarnings(\"ignore\")\n",
    "\n",
    "from hyper_params import (\n",
    "    mushroom_tuning_2024_08_06_1722934727_params,\n",
    ")\n",
    "\n",
    "sys.path.append(\"..\")\n",
    "from helpers.loss_functions import update_submission, finalize_submission\n",
    "\n",
    "SEED = 108\n",
    "random.seed(SEED)\n",
    "N_FOLDS = 7\n",
    "n_estimators = 10000\n",
    "early_stop = 100\n",
    "\n",
    "# model\n",
    "is_tunning = True\n",
    "try:\n",
    "    rs = subprocess.check_output(\"nvidia-smi\")\n",
    "    device = \"cuda\" if rs is not None else \"cpu\"\n",
    "except (\n",
    "    Exception\n",
    "):  # this command not being found can raise quite a few different errors depending on the configuration\n",
    "    print(\"No Nvidia GPU in system!\")\n",
    "    device = \"cpu\"\n",
    "\n",
    "best_params = {\n",
    "    \"device\": device,\n",
    "    \"verbosity\": 0,\n",
    "    \"objective\": \"binary:logistic\",\n",
    "}\n",
    "best_params.update(mushroom_tuning_2024_08_06_1722934727_params)\n",
    "best_params"
   ]
  },
  {
   "cell_type": "markdown",
   "metadata": {},
   "source": [
    "## Prepare data"
   ]
  },
  {
   "cell_type": "code",
   "execution_count": null,
   "metadata": {},
   "outputs": [],
   "source": [
    "y_train_pkl = jl.load(\"../y_train.pkl\")\n",
    "X_train_pkl = jl.load(\"../X_train.pkl\")\n",
    "\n",
    "print(f\"train size: {X_train_pkl.shape}\")"
   ]
  },
  {
   "cell_type": "markdown",
   "metadata": {},
   "source": [
    "## CV"
   ]
  },
  {
   "cell_type": "code",
   "execution_count": null,
   "metadata": {},
   "outputs": [],
   "source": [
    "from sklearn.model_selection import KFold\n",
    "from sklearn.model_selection import cross_val_score\n",
    "\n",
    "\n",
    "clf: xgb.XGBClassifier = xgb.XGBClassifier(\n",
    "    **best_params,\n",
    "    n_estimators=n_estimators,\n",
    "    early_stopping_rounds=early_stop,\n",
    "    enable_categorical=True,\n",
    ")"
   ]
  },
  {
   "cell_type": "code",
   "execution_count": null,
   "metadata": {},
   "outputs": [],
   "source": [
    "from tqdm import tqdm\n",
    "\n",
    "gc.collect()\n",
    "skf = StratifiedKFold(n_splits=N_FOLDS)\n",
    "\n",
    "y_preds = []\n",
    "y_trues = []\n",
    "for train_index, test_index in tqdm(skf.split(X_train_pkl, y_train_pkl)):\n",
    "    X_train, X_test = X_train_pkl[train_index], X_train_pkl[test_index]\n",
    "    y_train, y_test = y_train_pkl[train_index], y_train_pkl[test_index]\n",
    "\n",
    "    clf.fit(X=X_train, y=y_train, eval_set=[(X_test, y_test)])\n",
    "\n",
    "    y_pred = clf.predict(X_test)\n",
    "    y_preds.append(y_pred)\n",
    "    y_trues.append(y_test)\n",
    "\n",
    "    del X_train, X_test, y_train, y_test, y_pred\n",
    "    gc.collect()\n",
    "# Concatenate the predictions and true labels\n",
    "y_preds_concat = np.concatenate(y_preds)\n",
    "y_trues_concat = np.concatenate(y_trues)\n",
    "mcc = matthews_corrcoef(y_trues_concat, y_preds_concat)\n",
    "jl.dump(clf, \"../clf_xgboost.pkl\")"
   ]
  },
  {
   "cell_type": "code",
   "execution_count": null,
   "metadata": {},
   "outputs": [],
   "source": [
    "print(f\"Validation mcc score: {mcc}\")"
   ]
  },
  {
   "cell_type": "code",
   "execution_count": null,
   "metadata": {},
   "outputs": [],
   "source": [
    "import joblib as jl\n",
    "\n",
    "X_test_pkl = jl.load(\"../X_test.pkl\")\n",
    "proba_preds = clf.predict_proba(X_test_pkl)\n",
    "update_submission(\n",
    "    model=clf,\n",
    "    X_test=X_test_pkl,\n",
    "    unique_target_values=[\"e\", \"p\"],\n",
    ")"
   ]
  },
  {
   "cell_type": "code",
   "execution_count": 9,
   "metadata": {},
   "outputs": [],
   "source": [
    "finalize_submission(strategy=\"mean\")"
   ]
  }
 ],
 "metadata": {
  "kernelspec": {
   "display_name": "kaggle",
   "language": "python",
   "name": "python3"
  },
  "language_info": {
   "codemirror_mode": {
    "name": "ipython",
    "version": 3
   },
   "file_extension": ".py",
   "mimetype": "text/x-python",
   "name": "python",
   "nbconvert_exporter": "python",
   "pygments_lexer": "ipython3",
   "version": "3.11.9"
  }
 },
 "nbformat": 4,
 "nbformat_minor": 4
}
