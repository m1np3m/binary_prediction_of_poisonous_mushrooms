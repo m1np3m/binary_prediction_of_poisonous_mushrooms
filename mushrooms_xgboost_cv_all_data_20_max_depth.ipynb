{
 "cells": [
  {
   "cell_type": "markdown",
   "metadata": {},
   "source": [
    "## Constants"
   ]
  },
  {
   "cell_type": "code",
   "execution_count": 1,
   "metadata": {},
   "outputs": [
    {
     "name": "stdout",
     "output_type": "stream",
     "text": [
      "No Nvidia GPU in system!\n"
     ]
    }
   ],
   "source": [
    "import sys, os\n",
    "import pandas as pd\n",
    "import numpy as np\n",
    "import subprocess\n",
    "import gc\n",
    "import optuna\n",
    "from datetime import datetime, timezone\n",
    "import warnings\n",
    "import xgboost as xgb\n",
    "import joblib as jl\n",
    "from sklearn.model_selection import train_test_split\n",
    "import warnings\n",
    "from sklearn.metrics import matthews_corrcoef\n",
    "from mlflow.models import infer_signature\n",
    "import mlflow\n",
    "\n",
    "from sklearn.impute import SimpleImputer\n",
    "from sklearn.preprocessing import OneHotEncoder, StandardScaler, LabelBinarizer\n",
    "from sklearn.pipeline import Pipeline\n",
    "from sklearn.compose import ColumnTransformer\n",
    "\n",
    "today = datetime.now(timezone.utc).strftime(\"%Y_%m_%d\")\n",
    "warnings.filterwarnings(\"ignore\")\n",
    "\n",
    "# data\n",
    "train_path = \"../data/mushrooms/train.csv\"\n",
    "test_path = \"../data/mushrooms/test.csv\"\n",
    "cache_path = \"../data/mushrooms/cache\"\n",
    "# model\n",
    "is_tunning = False\n",
    "try:\n",
    "    rs = subprocess.check_output(\"nvidia-smi\")\n",
    "    device = \"cuda\" if rs is not None else \"cpu\"\n",
    "    print(f\"device: {device}\")\n",
    "except (\n",
    "    Exception\n",
    "):  # this command not being found can raise quite a few different errors depending on the configuration\n",
    "    print(\"No Nvidia GPU in system!\")\n",
    "    device = \"cpu\"\n",
    "goal = \"binary:logistic\"\n",
    "\n",
    "\n",
    "def mcc_metric_v2(preds, dtrain):\n",
    "    labels = dtrain.get_label()\n",
    "    preds = (preds > 0.5).astype(int)\n",
    "    return \"MCC\", matthews_corrcoef(labels, preds)\n",
    "\n",
    "\n",
    "# custom metric\n",
    "objective_dict = {\n",
    "    \"binary:logistic\": {\n",
    "        \"metric\": {\n",
    "            \"is_custom\": True,\n",
    "            \"name\": \"MCC\",\n",
    "            \"fval\": mcc_metric_v2,\n",
    "        },\n",
    "        \"direction\": \"maximize\",\n",
    "    }\n",
    "}\n",
    "\n",
    "# objective_dict = {\n",
    "#     \"binary:logistic\": {\n",
    "#         \"metric\": {\n",
    "#             \"is_custom\": False,\n",
    "#             \"name\": \"logloss\",\n",
    "#             \"fval\": None,\n",
    "#         },\n",
    "#         \"direction\": \"minimize\",\n",
    "#     }\n",
    "# }\n",
    "metric = objective_dict[goal][\"metric\"][\"name\"]\n",
    "is_custom_metric = objective_dict[goal][\"metric\"][\"is_custom\"]\n",
    "fval = objective_dict[goal][\"metric\"][\"fval\"]\n",
    "direction = objective_dict[goal][\"direction\"]\n",
    "best_params = {\n",
    "    \"device\": device,\n",
    "    \"verbosity\": 0,\n",
    "}"
   ]
  },
  {
   "cell_type": "markdown",
   "metadata": {},
   "source": [
    "## Prepare data"
   ]
  },
  {
   "cell_type": "code",
   "execution_count": 2,
   "metadata": {},
   "outputs": [
    {
     "name": "stdout",
     "output_type": "stream",
     "text": [
      "train size: (3116945, 22)\n",
      "test size: (2077964, 21)\n"
     ]
    }
   ],
   "source": [
    "train = pd.read_csv(train_path)\n",
    "print(f\"train size: {train.shape}\")\n",
    "test = pd.read_csv(test_path)\n",
    "print(f\"test size: {test.shape}\")"
   ]
  },
  {
   "cell_type": "code",
   "execution_count": 3,
   "metadata": {},
   "outputs": [],
   "source": [
    "target = \"class\"\n",
    "\n",
    "categorical_cols = (\n",
    "    train.drop(columns=target).select_dtypes(include=\"object\").columns.to_list()\n",
    ")\n",
    "for c in categorical_cols:\n",
    "    train[c] = train[c].astype(\"category\")\n",
    "    test[c] = test[c].astype(\"category\")\n",
    "numerical_cols = (\n",
    "    train.drop(columns=\"id\").select_dtypes(include=\"number\").columns.to_list()\n",
    ")"
   ]
  },
  {
   "cell_type": "code",
   "execution_count": 4,
   "metadata": {},
   "outputs": [
    {
     "data": {
      "text/plain": [
       "103"
      ]
     },
     "execution_count": 4,
     "metadata": {},
     "output_type": "execute_result"
    }
   ],
   "source": [
    "# X_train, X_val, y_train, y_val = train_test_split(\n",
    "#     train.drop(columns=target),\n",
    "#     train[target],\n",
    "#     test_size=0.2,\n",
    "#     random_state=42,\n",
    "#     stratify=train[target],\n",
    "# )\n",
    "# X_test = test\n",
    "\n",
    "X_train = train.drop(columns=target)\n",
    "y_train = train[target]\n",
    "gc.collect()"
   ]
  },
  {
   "cell_type": "markdown",
   "metadata": {},
   "source": [
    "## Data preprocessing"
   ]
  },
  {
   "cell_type": "code",
   "execution_count": 5,
   "metadata": {},
   "outputs": [
    {
     "data": {
      "text/plain": [
       "22"
      ]
     },
     "execution_count": 5,
     "metadata": {},
     "output_type": "execute_result"
    }
   ],
   "source": [
    "from sklearn.preprocessing import MinMaxScaler\n",
    "\n",
    "# Create the numerical and categorical pipelines\n",
    "numerical_pipeline = Pipeline(\n",
    "    steps=[\n",
    "        (\"num_imputer\", SimpleImputer(strategy=\"median\")),\n",
    "        # (\"scaler\", StandardScaler()),\n",
    "        # (\"minmax\", MinMaxScaler()),\n",
    "    ]\n",
    ")\n",
    "\n",
    "categorical_pipeline = Pipeline(\n",
    "    steps=[\n",
    "        (\"cat_imputer\", SimpleImputer(strategy=\"most_frequent\")),\n",
    "        (\"onehot\", OneHotEncoder(handle_unknown=\"ignore\")),\n",
    "    ]\n",
    ")\n",
    "\n",
    "# Combine the pipelines into a ColumnTransformer\n",
    "preprocessor = ColumnTransformer(\n",
    "    transformers=[\n",
    "        (\"num\", numerical_pipeline, numerical_cols),\n",
    "        (\"cat\", categorical_pipeline, categorical_cols),\n",
    "    ]\n",
    ")\n",
    "\n",
    "# Create the full pipeline with the XGBoost model\n",
    "data_pipeline = Pipeline(\n",
    "    steps=[\n",
    "        (\"preprocessor\", preprocessor),\n",
    "    ]\n",
    ")\n",
    "\n",
    "# Preprocess the data\n",
    "X_train_transformed = preprocessor.fit_transform(X_train)\n",
    "# X_test_transformed = preprocessor.transform(X_test)\n",
    "# X_val_transformed = preprocessor.transform(X_val)\n",
    "# Binarize the target labels\n",
    "lb = LabelBinarizer()\n",
    "\n",
    "y_train_binarized = lb.fit_transform(y_train)\n",
    "# y_val_binarized = lb.transform(y_val)\n",
    "\n",
    "# prepare data for training\n",
    "dtrain = xgb.DMatrix(X_train_transformed, label=y_train_binarized)\n",
    "# dval = xgb.DMatrix(X_val_transformed, label=y_val_binarized)\n",
    "# dtest = xgb.DMatrix(X_test_transformed)\n",
    "\n",
    "gc.collect()"
   ]
  },
  {
   "cell_type": "markdown",
   "metadata": {},
   "source": [
    "## Train best model"
   ]
  },
  {
   "cell_type": "code",
   "execution_count": 6,
   "metadata": {},
   "outputs": [
    {
     "name": "stdout",
     "output_type": "stream",
     "text": [
      "best_params: {'device': 'cpu', 'verbosity': 0, 'tree_method': 'hist', 'eta': 0.07, 'max_depth': 20, 'min_child_weight': 1, 'gamma': 0.044230646284796976, 'subsample': 0.9405269471473167, 'colsample_bytree': 0.2999355523666192, 'lambda': 0.9746051811186938, 'alpha': 4.210861941737071}\n",
      "Training best model...\n",
      "[0]\ttrain-rmse:0.47097+0.00004\ttrain-MCC:0.00000+0.00000\ttest-rmse:0.47100+0.00004\ttest-MCC:0.00000+0.00000\n",
      "[1]\ttrain-rmse:0.44678+0.00008\ttrain-MCC:0.77305+0.00157\ttest-rmse:0.44688+0.00008\ttest-MCC:0.77152+0.00208\n",
      "[2]\ttrain-rmse:0.42769+0.00008\ttrain-MCC:0.87275+0.00246\ttest-rmse:0.42781+0.00010\ttest-MCC:0.87138+0.00288\n",
      "[3]\ttrain-rmse:0.41279+0.00007\ttrain-MCC:0.90794+0.00166\ttest-rmse:0.41292+0.00010\ttest-MCC:0.90704+0.00202\n",
      "[4]\ttrain-rmse:0.38863+0.00012\ttrain-MCC:0.95058+0.00035\ttest-rmse:0.38880+0.00008\ttest-MCC:0.94955+0.00055\n",
      "[5]\ttrain-rmse:0.37799+0.00014\ttrain-MCC:0.95558+0.00029\ttest-rmse:0.37817+0.00010\ttest-MCC:0.95465+0.00055\n",
      "[6]\ttrain-rmse:0.35598+0.00013\ttrain-MCC:0.96854+0.00009\ttest-rmse:0.35622+0.00008\ttest-MCC:0.96763+0.00028\n",
      "[7]\ttrain-rmse:0.34236+0.00013\ttrain-MCC:0.96951+0.00009\ttest-rmse:0.34262+0.00008\ttest-MCC:0.96865+0.00026\n",
      "[8]\ttrain-rmse:0.33181+0.00012\ttrain-MCC:0.97140+0.00009\ttest-rmse:0.33207+0.00007\ttest-MCC:0.97053+0.00027\n",
      "[9]\ttrain-rmse:0.31684+0.00014\ttrain-MCC:0.97273+0.00012\ttest-rmse:0.31713+0.00009\ttest-MCC:0.97192+0.00017\n",
      "[10]\ttrain-rmse:0.29998+0.00017\ttrain-MCC:0.97526+0.00018\ttest-rmse:0.30032+0.00011\ttest-MCC:0.97441+0.00021\n",
      "[11]\ttrain-rmse:0.28855+0.00018\ttrain-MCC:0.97672+0.00016\ttest-rmse:0.28891+0.00013\ttest-MCC:0.97593+0.00024\n",
      "[12]\ttrain-rmse:0.27735+0.00016\ttrain-MCC:0.97760+0.00008\ttest-rmse:0.27773+0.00011\ttest-MCC:0.97683+0.00023\n",
      "[13]\ttrain-rmse:0.26311+0.00017\ttrain-MCC:0.97809+0.00009\ttest-rmse:0.26354+0.00013\ttest-MCC:0.97734+0.00018\n",
      "[14]\ttrain-rmse:0.25379+0.00017\ttrain-MCC:0.97831+0.00009\ttest-rmse:0.25424+0.00013\ttest-MCC:0.97760+0.00019\n",
      "[15]\ttrain-rmse:0.24586+0.00017\ttrain-MCC:0.97849+0.00009\ttest-rmse:0.24632+0.00013\ttest-MCC:0.97777+0.00020\n",
      "[16]\ttrain-rmse:0.23632+0.00016\ttrain-MCC:0.97877+0.00011\ttest-rmse:0.23682+0.00011\ttest-MCC:0.97809+0.00016\n",
      "[17]\ttrain-rmse:0.23087+0.00016\ttrain-MCC:0.97896+0.00012\ttest-rmse:0.23138+0.00010\ttest-MCC:0.97827+0.00019\n",
      "[18]\ttrain-rmse:0.22648+0.00016\ttrain-MCC:0.97912+0.00009\ttest-rmse:0.22699+0.00011\ttest-MCC:0.97844+0.00021\n",
      "[19]\ttrain-rmse:0.21529+0.00015\ttrain-MCC:0.97987+0.00008\ttest-rmse:0.21585+0.00011\ttest-MCC:0.97920+0.00017\n",
      "[20]\ttrain-rmse:0.20728+0.00014\ttrain-MCC:0.98000+0.00008\ttest-rmse:0.20788+0.00010\ttest-MCC:0.97935+0.00017\n",
      "[21]\ttrain-rmse:0.19755+0.00014\ttrain-MCC:0.98057+0.00005\ttest-rmse:0.19820+0.00010\ttest-MCC:0.97991+0.00019\n",
      "[22]\ttrain-rmse:0.19049+0.00015\ttrain-MCC:0.98067+0.00009\ttest-rmse:0.19118+0.00013\ttest-MCC:0.98001+0.00013\n",
      "[23]\ttrain-rmse:0.18428+0.00013\ttrain-MCC:0.98078+0.00010\ttest-rmse:0.18500+0.00012\ttest-MCC:0.98012+0.00013\n",
      "[24]\ttrain-rmse:0.17976+0.00014\ttrain-MCC:0.98079+0.00009\ttest-rmse:0.18049+0.00015\ttest-MCC:0.98015+0.00018\n",
      "[25]\ttrain-rmse:0.17672+0.00014\ttrain-MCC:0.98082+0.00009\ttest-rmse:0.17746+0.00015\ttest-MCC:0.98014+0.00017\n",
      "[26]\ttrain-rmse:0.17240+0.00016\ttrain-MCC:0.98089+0.00008\ttest-rmse:0.17317+0.00019\ttest-MCC:0.98022+0.00018\n",
      "[27]\ttrain-rmse:0.16555+0.00014\ttrain-MCC:0.98112+0.00012\ttest-rmse:0.16637+0.00018\ttest-MCC:0.98045+0.00016\n",
      "[28]\ttrain-rmse:0.16030+0.00013\ttrain-MCC:0.98136+0.00010\ttest-rmse:0.16115+0.00019\ttest-MCC:0.98070+0.00019\n",
      "[29]\ttrain-rmse:0.15804+0.00013\ttrain-MCC:0.98131+0.00013\ttest-rmse:0.15890+0.00019\ttest-MCC:0.98065+0.00016\n",
      "[30]\ttrain-rmse:0.15350+0.00011\ttrain-MCC:0.98148+0.00009\ttest-rmse:0.15439+0.00020\ttest-MCC:0.98085+0.00019\n",
      "[31]\ttrain-rmse:0.14968+0.00011\ttrain-MCC:0.98156+0.00008\ttest-rmse:0.15061+0.00020\ttest-MCC:0.98092+0.00021\n",
      "[32]\ttrain-rmse:0.14736+0.00010\ttrain-MCC:0.98158+0.00008\ttest-rmse:0.14829+0.00020\ttest-MCC:0.98093+0.00021\n",
      "[33]\ttrain-rmse:0.14505+0.00006\ttrain-MCC:0.98161+0.00008\ttest-rmse:0.14600+0.00016\ttest-MCC:0.98092+0.00021\n",
      "[34]\ttrain-rmse:0.14282+0.00006\ttrain-MCC:0.98165+0.00008\ttest-rmse:0.14379+0.00016\ttest-MCC:0.98097+0.00021\n",
      "[35]\ttrain-rmse:0.13952+0.00001\ttrain-MCC:0.98176+0.00008\ttest-rmse:0.14052+0.00018\ttest-MCC:0.98111+0.00022\n",
      "[36]\ttrain-rmse:0.13642+0.00002\ttrain-MCC:0.98188+0.00006\ttest-rmse:0.13745+0.00018\ttest-MCC:0.98122+0.00020\n",
      "[37]\ttrain-rmse:0.13361+0.00001\ttrain-MCC:0.98203+0.00004\ttest-rmse:0.13466+0.00019\ttest-MCC:0.98139+0.00021\n",
      "[38]\ttrain-rmse:0.13129+0.00002\ttrain-MCC:0.98209+0.00004\ttest-rmse:0.13236+0.00020\ttest-MCC:0.98144+0.00020\n",
      "[39]\ttrain-rmse:0.12820+0.00003\ttrain-MCC:0.98219+0.00004\ttest-rmse:0.12931+0.00021\ttest-MCC:0.98154+0.00021\n",
      "[40]\ttrain-rmse:0.12629+0.00003\ttrain-MCC:0.98224+0.00003\ttest-rmse:0.12742+0.00021\ttest-MCC:0.98158+0.00019\n",
      "[41]\ttrain-rmse:0.12354+0.00003\ttrain-MCC:0.98239+0.00004\ttest-rmse:0.12471+0.00021\ttest-MCC:0.98170+0.00022\n",
      "[42]\ttrain-rmse:0.12169+0.00003\ttrain-MCC:0.98244+0.00004\ttest-rmse:0.12288+0.00022\ttest-MCC:0.98176+0.00021\n",
      "[43]\ttrain-rmse:0.11927+0.00002\ttrain-MCC:0.98252+0.00005\ttest-rmse:0.12050+0.00022\ttest-MCC:0.98185+0.00019\n",
      "[44]\ttrain-rmse:0.11795+0.00003\ttrain-MCC:0.98252+0.00005\ttest-rmse:0.11920+0.00023\ttest-MCC:0.98186+0.00019\n",
      "[45]\ttrain-rmse:0.11606+0.00003\ttrain-MCC:0.98260+0.00005\ttest-rmse:0.11735+0.00023\ttest-MCC:0.98193+0.00017\n",
      "[46]\ttrain-rmse:0.11533+0.00003\ttrain-MCC:0.98259+0.00004\ttest-rmse:0.11662+0.00023\ttest-MCC:0.98193+0.00018\n",
      "[47]\ttrain-rmse:0.11454+0.00004\ttrain-MCC:0.98262+0.00005\ttest-rmse:0.11584+0.00023\ttest-MCC:0.98196+0.00017\n",
      "[48]\ttrain-rmse:0.11400+0.00004\ttrain-MCC:0.98261+0.00005\ttest-rmse:0.11531+0.00024\ttest-MCC:0.98196+0.00016\n",
      "[49]\ttrain-rmse:0.11321+0.00004\ttrain-MCC:0.98259+0.00004\ttest-rmse:0.11453+0.00024\ttest-MCC:0.98195+0.00016\n",
      "[50]\ttrain-rmse:0.11286+0.00004\ttrain-MCC:0.98261+0.00004\ttest-rmse:0.11417+0.00024\ttest-MCC:0.98196+0.00017\n",
      "[51]\ttrain-rmse:0.11181+0.00004\ttrain-MCC:0.98263+0.00004\ttest-rmse:0.11315+0.00024\ttest-MCC:0.98195+0.00018\n",
      "[52]\ttrain-rmse:0.11080+0.00004\ttrain-MCC:0.98266+0.00003\ttest-rmse:0.11216+0.00024\ttest-MCC:0.98200+0.00016\n",
      "[53]\ttrain-rmse:0.11042+0.00006\ttrain-MCC:0.98267+0.00003\ttest-rmse:0.11178+0.00024\ttest-MCC:0.98199+0.00017\n",
      "[54]\ttrain-rmse:0.10935+0.00006\ttrain-MCC:0.98271+0.00003\ttest-rmse:0.11073+0.00025\ttest-MCC:0.98205+0.00017\n",
      "[55]\ttrain-rmse:0.10853+0.00006\ttrain-MCC:0.98274+0.00003\ttest-rmse:0.10993+0.00025\ttest-MCC:0.98208+0.00018\n",
      "[56]\ttrain-rmse:0.10752+0.00006\ttrain-MCC:0.98281+0.00003\ttest-rmse:0.10894+0.00025\ttest-MCC:0.98213+0.00017\n",
      "[57]\ttrain-rmse:0.10678+0.00006\ttrain-MCC:0.98285+0.00002\ttest-rmse:0.10821+0.00026\ttest-MCC:0.98218+0.00017\n",
      "[58]\ttrain-rmse:0.10644+0.00005\ttrain-MCC:0.98285+0.00002\ttest-rmse:0.10788+0.00026\ttest-MCC:0.98219+0.00017\n",
      "[59]\ttrain-rmse:0.10588+0.00006\ttrain-MCC:0.98288+0.00003\ttest-rmse:0.10734+0.00026\ttest-MCC:0.98221+0.00016\n",
      "[60]\ttrain-rmse:0.10495+0.00007\ttrain-MCC:0.98294+0.00003\ttest-rmse:0.10646+0.00026\ttest-MCC:0.98226+0.00017\n",
      "[61]\ttrain-rmse:0.10407+0.00007\ttrain-MCC:0.98300+0.00003\ttest-rmse:0.10561+0.00026\ttest-MCC:0.98232+0.00016\n",
      "[62]\ttrain-rmse:0.10382+0.00007\ttrain-MCC:0.98301+0.00003\ttest-rmse:0.10537+0.00026\ttest-MCC:0.98233+0.00017\n",
      "[63]\ttrain-rmse:0.10361+0.00007\ttrain-MCC:0.98301+0.00003\ttest-rmse:0.10516+0.00026\ttest-MCC:0.98234+0.00016\n",
      "[64]\ttrain-rmse:0.10326+0.00007\ttrain-MCC:0.98302+0.00003\ttest-rmse:0.10482+0.00026\ttest-MCC:0.98234+0.00017\n",
      "[65]\ttrain-rmse:0.10287+0.00007\ttrain-MCC:0.98303+0.00003\ttest-rmse:0.10445+0.00027\ttest-MCC:0.98235+0.00017\n",
      "[66]\ttrain-rmse:0.10220+0.00007\ttrain-MCC:0.98307+0.00004\ttest-rmse:0.10380+0.00027\ttest-MCC:0.98240+0.00018\n",
      "[67]\ttrain-rmse:0.10171+0.00007\ttrain-MCC:0.98309+0.00004\ttest-rmse:0.10333+0.00027\ttest-MCC:0.98241+0.00017\n",
      "[68]\ttrain-rmse:0.10159+0.00007\ttrain-MCC:0.98309+0.00004\ttest-rmse:0.10321+0.00027\ttest-MCC:0.98241+0.00017\n",
      "[69]\ttrain-rmse:0.10112+0.00007\ttrain-MCC:0.98312+0.00004\ttest-rmse:0.10276+0.00027\ttest-MCC:0.98243+0.00018\n",
      "[70]\ttrain-rmse:0.10096+0.00007\ttrain-MCC:0.98311+0.00004\ttest-rmse:0.10261+0.00027\ttest-MCC:0.98242+0.00018\n",
      "[71]\ttrain-rmse:0.10059+0.00007\ttrain-MCC:0.98314+0.00005\ttest-rmse:0.10225+0.00028\ttest-MCC:0.98243+0.00019\n",
      "[72]\ttrain-rmse:0.10039+0.00007\ttrain-MCC:0.98314+0.00004\ttest-rmse:0.10205+0.00028\ttest-MCC:0.98245+0.00019\n",
      "[73]\ttrain-rmse:0.10018+0.00007\ttrain-MCC:0.98316+0.00004\ttest-rmse:0.10185+0.00028\ttest-MCC:0.98247+0.00019\n",
      "[74]\ttrain-rmse:0.09994+0.00007\ttrain-MCC:0.98316+0.00005\ttest-rmse:0.10161+0.00029\ttest-MCC:0.98248+0.00018\n",
      "[75]\ttrain-rmse:0.09978+0.00007\ttrain-MCC:0.98317+0.00005\ttest-rmse:0.10145+0.00029\ttest-MCC:0.98249+0.00018\n",
      "[76]\ttrain-rmse:0.09967+0.00007\ttrain-MCC:0.98318+0.00004\ttest-rmse:0.10135+0.00029\ttest-MCC:0.98249+0.00019\n",
      "[77]\ttrain-rmse:0.09935+0.00007\ttrain-MCC:0.98319+0.00005\ttest-rmse:0.10104+0.00029\ttest-MCC:0.98250+0.00018\n",
      "[78]\ttrain-rmse:0.09927+0.00007\ttrain-MCC:0.98319+0.00004\ttest-rmse:0.10096+0.00029\ttest-MCC:0.98250+0.00018\n",
      "[79]\ttrain-rmse:0.09919+0.00007\ttrain-MCC:0.98319+0.00004\ttest-rmse:0.10089+0.00029\ttest-MCC:0.98250+0.00019\n",
      "[80]\ttrain-rmse:0.09898+0.00008\ttrain-MCC:0.98320+0.00004\ttest-rmse:0.10068+0.00029\ttest-MCC:0.98252+0.00019\n",
      "[81]\ttrain-rmse:0.09885+0.00008\ttrain-MCC:0.98321+0.00004\ttest-rmse:0.10055+0.00029\ttest-MCC:0.98253+0.00020\n",
      "[82]\ttrain-rmse:0.09840+0.00007\ttrain-MCC:0.98325+0.00004\ttest-rmse:0.10014+0.00030\ttest-MCC:0.98256+0.00021\n",
      "[83]\ttrain-rmse:0.09817+0.00007\ttrain-MCC:0.98327+0.00004\ttest-rmse:0.09993+0.00030\ttest-MCC:0.98257+0.00019\n",
      "[84]\ttrain-rmse:0.09794+0.00007\ttrain-MCC:0.98328+0.00004\ttest-rmse:0.09972+0.00031\ttest-MCC:0.98257+0.00020\n",
      "[85]\ttrain-rmse:0.09787+0.00007\ttrain-MCC:0.98329+0.00004\ttest-rmse:0.09965+0.00031\ttest-MCC:0.98258+0.00020\n",
      "[86]\ttrain-rmse:0.09774+0.00007\ttrain-MCC:0.98331+0.00004\ttest-rmse:0.09952+0.00031\ttest-MCC:0.98259+0.00019\n",
      "[87]\ttrain-rmse:0.09767+0.00007\ttrain-MCC:0.98331+0.00004\ttest-rmse:0.09945+0.00031\ttest-MCC:0.98259+0.00018\n",
      "[88]\ttrain-rmse:0.09748+0.00007\ttrain-MCC:0.98333+0.00005\ttest-rmse:0.09928+0.00031\ttest-MCC:0.98260+0.00019\n",
      "[89]\ttrain-rmse:0.09695+0.00007\ttrain-MCC:0.98340+0.00005\ttest-rmse:0.09881+0.00031\ttest-MCC:0.98266+0.00022\n",
      "[90]\ttrain-rmse:0.09689+0.00007\ttrain-MCC:0.98340+0.00005\ttest-rmse:0.09875+0.00031\ttest-MCC:0.98266+0.00023\n",
      "[91]\ttrain-rmse:0.09677+0.00007\ttrain-MCC:0.98341+0.00005\ttest-rmse:0.09864+0.00031\ttest-MCC:0.98266+0.00023\n",
      "[92]\ttrain-rmse:0.09650+0.00007\ttrain-MCC:0.98344+0.00006\ttest-rmse:0.09838+0.00031\ttest-MCC:0.98267+0.00023\n",
      "[93]\ttrain-rmse:0.09644+0.00007\ttrain-MCC:0.98344+0.00005\ttest-rmse:0.09833+0.00031\ttest-MCC:0.98267+0.00023\n",
      "[94]\ttrain-rmse:0.09634+0.00007\ttrain-MCC:0.98345+0.00005\ttest-rmse:0.09823+0.00031\ttest-MCC:0.98268+0.00023\n",
      "[95]\ttrain-rmse:0.09626+0.00007\ttrain-MCC:0.98346+0.00005\ttest-rmse:0.09817+0.00031\ttest-MCC:0.98268+0.00023\n",
      "[96]\ttrain-rmse:0.09606+0.00007\ttrain-MCC:0.98347+0.00005\ttest-rmse:0.09799+0.00032\ttest-MCC:0.98270+0.00023\n",
      "[97]\ttrain-rmse:0.09596+0.00007\ttrain-MCC:0.98348+0.00005\ttest-rmse:0.09790+0.00032\ttest-MCC:0.98270+0.00022\n"
     ]
    }
   ],
   "source": [
    "from sklearn.model_selection import KFold\n",
    "\n",
    "# Use tunned params\n",
    "tunned_params = {\n",
    "    \"tree_method\": \"hist\",\n",
    "    \"eta\": 0.07,\n",
    "    \"max_depth\": 20,\n",
    "    \"min_child_weight\": 1,\n",
    "    \"gamma\": 0.044230646284796976,\n",
    "    \"subsample\": 0.9405269471473167,\n",
    "    \"colsample_bytree\": 0.2999355523666192,\n",
    "    \"lambda\": 0.9746051811186938,\n",
    "    \"alpha\": 4.210861941737071,\n",
    "}\n",
    "\n",
    "best_params.update(tunned_params)\n",
    "print(f\"best_params: {best_params}\")\n",
    "print(\"Training best model...\")\n",
    "evals_best_result = {}\n",
    "\n",
    "cv_results = xgb.cv(\n",
    "    best_params,\n",
    "    dtrain,\n",
    "    num_boost_round=4000,\n",
    "    nfold=5,\n",
    "    shuffle=True,\n",
    "    seed=42,\n",
    "    feval=fval,  # Custom evaluation metric\n",
    "    maximize=True,\n",
    "    as_pandas=True,\n",
    "    callbacks=[\n",
    "        xgb.callback.EvaluationMonitor(show_stdv=True),\n",
    "        xgb.callback.EarlyStopping(200),\n",
    "    ],\n",
    ")\n",
    "gc.collect()\n",
    "# evals_result[\"eval\"][metric][-1]\n",
    "# Use the best score for the final iteration\n",
    "best_score = cv_results[\"test-MCC-mean\"].max()"
   ]
  },
  {
   "cell_type": "code",
   "execution_count": null,
   "metadata": {},
   "outputs": [],
   "source": [
    "best_score"
   ]
  },
  {
   "cell_type": "markdown",
   "metadata": {},
   "source": [
    "## Feature important"
   ]
  },
  {
   "cell_type": "code",
   "execution_count": null,
   "metadata": {},
   "outputs": [],
   "source": [
    "from matplotlib import pyplot"
   ]
  },
  {
   "cell_type": "code",
   "execution_count": null,
   "metadata": {},
   "outputs": [],
   "source": [
    "# # plot\n",
    "# feature_important = model.get_score(importance_type=\"gain\")\n",
    "# keys = list(feature_important.keys())\n",
    "# values = list(feature_important.values())\n",
    "\n",
    "# data = pd.DataFrame(data=values, index=keys, columns=[\"score\"]).sort_values(\n",
    "#     by=\"score\", ascending=False\n",
    "# )\n",
    "# data.nlargest(40, columns=\"score\").plot(\n",
    "#     kind=\"barh\", figsize=(20, 10)\n",
    "# )  ## plot top 40 features"
   ]
  },
  {
   "cell_type": "code",
   "execution_count": null,
   "metadata": {},
   "outputs": [],
   "source": []
  }
 ],
 "metadata": {
  "kernelspec": {
   "display_name": "kaggle",
   "language": "python",
   "name": "python3"
  },
  "language_info": {
   "codemirror_mode": {
    "name": "ipython",
    "version": 3
   },
   "file_extension": ".py",
   "mimetype": "text/x-python",
   "name": "python",
   "nbconvert_exporter": "python",
   "pygments_lexer": "ipython3",
   "version": "3.11.0"
  }
 },
 "nbformat": 4,
 "nbformat_minor": 4
}
