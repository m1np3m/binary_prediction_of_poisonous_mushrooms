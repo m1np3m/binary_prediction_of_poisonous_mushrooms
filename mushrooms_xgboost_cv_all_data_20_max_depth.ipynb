{
 "cells": [
  {
   "cell_type": "code",
   "execution_count": 1,
   "metadata": {},
   "outputs": [],
   "source": [
    "# !pip install --user optuna xgboost"
   ]
  },
  {
   "cell_type": "markdown",
   "metadata": {},
   "source": [
    "## Constants"
   ]
  },
  {
   "cell_type": "code",
   "execution_count": 2,
   "metadata": {},
   "outputs": [
    {
     "name": "stdout",
     "output_type": "stream",
     "text": [
      "device: cuda\n"
     ]
    }
   ],
   "source": [
    "import sys, os\n",
    "import pandas as pd\n",
    "import numpy as np\n",
    "import subprocess\n",
    "import gc\n",
    "import optuna\n",
    "from datetime import datetime, timezone\n",
    "import warnings\n",
    "import xgboost as xgb\n",
    "import joblib as jl\n",
    "from sklearn.model_selection import train_test_split\n",
    "import warnings\n",
    "from sklearn.metrics import matthews_corrcoef\n",
    "from mlflow.models import infer_signature\n",
    "import mlflow\n",
    "\n",
    "from sklearn.impute import SimpleImputer\n",
    "from sklearn.preprocessing import OneHotEncoder, StandardScaler, LabelBinarizer\n",
    "from sklearn.pipeline import Pipeline\n",
    "from sklearn.compose import ColumnTransformer\n",
    "\n",
    "today = datetime.now(timezone.utc).strftime(\"%Y_%m_%d\")\n",
    "warnings.filterwarnings(\"ignore\")\n",
    "\n",
    "# data\n",
    "is_dshub = os.getenv(\"NB_USER\", False)\n",
    "if is_dshub:\n",
    "    train_path = \"../data/train.csv\"\n",
    "    test_path = \"../data/test.csv\"\n",
    "    cache_path = \"../data/cache\"\n",
    "else:\n",
    "    train_path = \"../data/mushrooms/train.csv\"\n",
    "    test_path = \"../data/mushrooms/test.csv\"\n",
    "    cache_path = \"../data/mushrooms/cache\"\n",
    "# model\n",
    "is_tunning = False\n",
    "try:\n",
    "    rs = subprocess.check_output(\"nvidia-smi\")\n",
    "    device = \"cuda\" if rs is not None else \"cpu\"\n",
    "    print(f\"device: {device}\")\n",
    "except (\n",
    "    Exception\n",
    "):  # this command not being found can raise quite a few different errors depending on the configuration\n",
    "    print(\"No Nvidia GPU in system!\")\n",
    "    device = \"cpu\"\n",
    "goal = \"binary:logistic\"\n",
    "\n",
    "\n",
    "def mcc_metric_v2(preds, dtrain):\n",
    "    labels = dtrain.get_label()\n",
    "    preds = (preds > 0.5).astype(int)\n",
    "    return \"MCC\", matthews_corrcoef(labels, preds)\n",
    "\n",
    "\n",
    "# custom metric\n",
    "objective_dict = {\n",
    "    \"binary:logistic\": {\n",
    "        \"metric\": {\n",
    "            \"is_custom\": True,\n",
    "            \"name\": \"MCC\",\n",
    "            \"fval\": mcc_metric_v2,\n",
    "        },\n",
    "        \"direction\": \"maximize\",\n",
    "    }\n",
    "}\n",
    "\n",
    "# objective_dict = {\n",
    "#     \"binary:logistic\": {\n",
    "#         \"metric\": {\n",
    "#             \"is_custom\": False,\n",
    "#             \"name\": \"logloss\",\n",
    "#             \"fval\": None,\n",
    "#         },\n",
    "#         \"direction\": \"minimize\",\n",
    "#     }\n",
    "# }\n",
    "\n",
    "metric = objective_dict[goal][\"metric\"][\"name\"]\n",
    "is_custom_metric = objective_dict[goal][\"metric\"][\"is_custom\"]\n",
    "fval = objective_dict[goal][\"metric\"][\"fval\"]\n",
    "direction = objective_dict[goal][\"direction\"]\n",
    "best_params = {\n",
    "    \"device\": device,\n",
    "    \"verbosity\": 0,\n",
    "}"
   ]
  },
  {
   "cell_type": "code",
   "execution_count": 3,
   "metadata": {},
   "outputs": [
    {
     "data": {
      "text/plain": [
       "{'device': 'cuda', 'verbosity': 0}"
      ]
     },
     "execution_count": 3,
     "metadata": {},
     "output_type": "execute_result"
    }
   ],
   "source": [
    "best_params"
   ]
  },
  {
   "cell_type": "markdown",
   "metadata": {},
   "source": [
    "## Prepare data"
   ]
  },
  {
   "cell_type": "code",
   "execution_count": 4,
   "metadata": {},
   "outputs": [
    {
     "name": "stdout",
     "output_type": "stream",
     "text": [
      "train size: (3116945, 22)\n",
      "test size: (2077964, 21)\n"
     ]
    }
   ],
   "source": [
    "train = pd.read_csv(train_path)\n",
    "print(f\"train size: {train.shape}\")\n",
    "test = pd.read_csv(test_path)\n",
    "print(f\"test size: {test.shape}\")"
   ]
  },
  {
   "cell_type": "code",
   "execution_count": 5,
   "metadata": {},
   "outputs": [],
   "source": [
    "target = \"class\"\n",
    "\n",
    "categorical_cols = (\n",
    "    train.drop(columns=target).select_dtypes(include=\"object\").columns.to_list()\n",
    ")\n",
    "for c in categorical_cols:\n",
    "    train[c] = train[c].astype(\"category\")\n",
    "    test[c] = test[c].astype(\"category\")\n",
    "numerical_cols = (\n",
    "    train.drop(columns=\"id\").select_dtypes(include=\"number\").columns.to_list()\n",
    ")"
   ]
  },
  {
   "cell_type": "code",
   "execution_count": 6,
   "metadata": {},
   "outputs": [
    {
     "data": {
      "text/plain": [
       "64"
      ]
     },
     "execution_count": 6,
     "metadata": {},
     "output_type": "execute_result"
    }
   ],
   "source": [
    "# X_train, X_val, y_train, y_val = train_test_split(\n",
    "#     train.drop(columns=target),\n",
    "#     train[target],\n",
    "#     test_size=0.2,\n",
    "#     random_state=42,\n",
    "#     stratify=train[target],\n",
    "# )\n",
    "# X_test = test\n",
    "\n",
    "X_train = train.drop(columns=target)\n",
    "y_train = train[target]\n",
    "gc.collect()"
   ]
  },
  {
   "cell_type": "markdown",
   "metadata": {},
   "source": [
    "## Data preprocessing"
   ]
  },
  {
   "cell_type": "code",
   "execution_count": 8,
   "metadata": {},
   "outputs": [
    {
     "data": {
      "text/plain": [
       "22"
      ]
     },
     "execution_count": 8,
     "metadata": {},
     "output_type": "execute_result"
    }
   ],
   "source": [
    "from sklearn.preprocessing import MinMaxScaler\n",
    "\n",
    "# Create the numerical and categorical pipelines\n",
    "numerical_pipeline = Pipeline(\n",
    "    steps=[\n",
    "        (\"num_imputer\", SimpleImputer(strategy=\"median\")),\n",
    "        # (\"scaler\", StandardScaler()),\n",
    "        # (\"minmax\", MinMaxScaler()),\n",
    "    ]\n",
    ")\n",
    "\n",
    "categorical_pipeline = Pipeline(\n",
    "    steps=[\n",
    "        (\"cat_imputer\", SimpleImputer(strategy=\"most_frequent\")),\n",
    "        (\"onehot\", OneHotEncoder(handle_unknown=\"ignore\")),\n",
    "    ]\n",
    ")\n",
    "\n",
    "# Combine the pipelines into a ColumnTransformer\n",
    "preprocessor = ColumnTransformer(\n",
    "    transformers=[\n",
    "        (\"num\", numerical_pipeline, numerical_cols),\n",
    "        (\"cat\", categorical_pipeline, categorical_cols),\n",
    "    ]\n",
    ")\n",
    "\n",
    "# Create the full pipeline with the XGBoost model\n",
    "data_pipeline = Pipeline(\n",
    "    steps=[\n",
    "        (\"preprocessor\", preprocessor),\n",
    "    ]\n",
    ")\n",
    "\n",
    "# Preprocess the data\n",
    "X_train_transformed = preprocessor.fit_transform(X_train)\n",
    "# X_test_transformed = preprocessor.transform(X_test)\n",
    "# X_val_transformed = preprocessor.transform(X_val)\n",
    "# Binarize the target labels\n",
    "lb = LabelBinarizer()\n",
    "\n",
    "y_train_binarized = lb.fit_transform(y_train)\n",
    "# y_val_binarized = lb.transform(y_val)\n",
    "\n",
    "# prepare data for training\n",
    "dtrain = xgb.DMatrix(X_train_transformed, label=y_train_binarized)\n",
    "# dval = xgb.DMatrix(X_val_transformed, label=y_val_binarized)\n",
    "# dtest = xgb.DMatrix(X_test_transformed)\n",
    "\n",
    "gc.collect()"
   ]
  },
  {
   "cell_type": "markdown",
   "metadata": {},
   "source": [
    "## Train best model"
   ]
  },
  {
   "cell_type": "code",
   "execution_count": 11,
   "metadata": {},
   "outputs": [
    {
     "data": {
      "text/plain": [
       "{'device': 'cuda',\n",
       " 'verbosity': 0,\n",
       " 'tree_method': 'hist',\n",
       " 'eta': 0.0696294726051571,\n",
       " 'max_depth': 0,\n",
       " 'min_child_weight': 0,\n",
       " 'gamma': 0.044230646284796976,\n",
       " 'subsample': 0.9405269471473167,\n",
       " 'colsample_bytree': 0.2999355523666192,\n",
       " 'lambda': 0.9746051811186938,\n",
       " 'alpha': 4.210861941737071}"
      ]
     },
     "execution_count": 11,
     "metadata": {},
     "output_type": "execute_result"
    }
   ],
   "source": [
    "# Use tunned params\n",
    "tunned_params = {\n",
    "    \"tree_method\": \"hist\",\n",
    "    \"eta\": 0.0696294726051571,\n",
    "    \"max_depth\": 0,\n",
    "    \"min_child_weight\": 1,\n",
    "    \"gamma\": 0.044230646284796976,\n",
    "    \"subsample\": 0.9405269471473167,\n",
    "    \"colsample_bytree\": 0.2999355523666192,\n",
    "    \"lambda\": 0.9746051811186938,\n",
    "    \"alpha\": 4.210861941737071,\n",
    "}\n",
    "\n",
    "best_params.update(tunned_params)\n",
    "best_params"
   ]
  },
  {
   "cell_type": "code",
   "execution_count": 12,
   "metadata": {},
   "outputs": [
    {
     "name": "stdout",
     "output_type": "stream",
     "text": [
      "Training best model...\n",
      "[0]\ttrain-rmse:0.48603+0.00341\ttrain-MCC:0.00000+0.00000\ttest-rmse:0.48604+0.00337\ttest-MCC:0.00000+0.00000\n",
      "[1]\ttrain-rmse:0.46426+0.00324\ttrain-MCC:0.47831+0.07017\ttest-rmse:0.46428+0.00318\ttest-MCC:0.47787+0.06987\n",
      "[2]\ttrain-rmse:0.43547+0.00303\ttrain-MCC:0.83182+0.01426\ttest-rmse:0.43559+0.00296\ttest-MCC:0.83050+0.01318\n",
      "[3]\ttrain-rmse:0.41315+0.00303\ttrain-MCC:0.92542+0.00318\ttest-rmse:0.41331+0.00295\ttest-MCC:0.92397+0.00284\n",
      "[4]\ttrain-rmse:0.39522+0.00287\ttrain-MCC:0.93983+0.00180\ttest-rmse:0.39540+0.00279\ttest-MCC:0.93854+0.00163\n",
      "[5]\ttrain-rmse:0.37714+0.00268\ttrain-MCC:0.95236+0.00084\ttest-rmse:0.37736+0.00260\ttest-MCC:0.95114+0.00066\n",
      "[6]\ttrain-rmse:0.35853+0.00265\ttrain-MCC:0.96409+0.00049\ttest-rmse:0.35879+0.00256\ttest-MCC:0.96302+0.00049\n",
      "[7]\ttrain-rmse:0.33876+0.00249\ttrain-MCC:0.96944+0.00022\ttest-rmse:0.33907+0.00240\ttest-MCC:0.96842+0.00021\n",
      "[8]\ttrain-rmse:0.31907+0.00231\ttrain-MCC:0.97525+0.00025\ttest-rmse:0.31946+0.00221\ttest-MCC:0.97415+0.00025\n",
      "[9]\ttrain-rmse:0.30244+0.00197\ttrain-MCC:0.97667+0.00015\ttest-rmse:0.30291+0.00186\ttest-MCC:0.97561+0.00038\n",
      "[10]\ttrain-rmse:0.28553+0.00148\ttrain-MCC:0.97873+0.00005\ttest-rmse:0.28605+0.00139\ttest-MCC:0.97774+0.00021\n",
      "[11]\ttrain-rmse:0.27240+0.00108\ttrain-MCC:0.97955+0.00013\ttest-rmse:0.27295+0.00097\ttest-MCC:0.97858+0.00034\n",
      "[12]\ttrain-rmse:0.26227+0.00102\ttrain-MCC:0.97967+0.00012\ttest-rmse:0.26287+0.00091\ttest-MCC:0.97869+0.00037\n",
      "[13]\ttrain-rmse:0.25137+0.00167\ttrain-MCC:0.98005+0.00009\ttest-rmse:0.25200+0.00158\ttest-MCC:0.97906+0.00039\n",
      "[14]\ttrain-rmse:0.24232+0.00159\ttrain-MCC:0.98012+0.00010\ttest-rmse:0.24297+0.00150\ttest-MCC:0.97920+0.00037\n",
      "[15]\ttrain-rmse:0.22984+0.00148\ttrain-MCC:0.98070+0.00007\ttest-rmse:0.23055+0.00139\ttest-MCC:0.97984+0.00032\n",
      "[16]\ttrain-rmse:0.22080+0.00139\ttrain-MCC:0.98094+0.00006\ttest-rmse:0.22155+0.00131\ttest-MCC:0.98006+0.00030\n",
      "[17]\ttrain-rmse:0.21176+0.00132\ttrain-MCC:0.98103+0.00005\ttest-rmse:0.21256+0.00122\ttest-MCC:0.98019+0.00034\n",
      "[18]\ttrain-rmse:0.20423+0.00102\ttrain-MCC:0.98113+0.00007\ttest-rmse:0.20505+0.00100\ttest-MCC:0.98028+0.00029\n",
      "[19]\ttrain-rmse:0.19670+0.00096\ttrain-MCC:0.98125+0.00006\ttest-rmse:0.19754+0.00094\ttest-MCC:0.98042+0.00026\n",
      "[20]\ttrain-rmse:0.19069+0.00091\ttrain-MCC:0.98138+0.00005\ttest-rmse:0.19156+0.00091\ttest-MCC:0.98059+0.00025\n",
      "[21]\ttrain-rmse:0.18408+0.00210\ttrain-MCC:0.98145+0.00008\ttest-rmse:0.18498+0.00207\ttest-MCC:0.98069+0.00025\n",
      "[22]\ttrain-rmse:0.17669+0.00193\ttrain-MCC:0.98155+0.00008\ttest-rmse:0.17768+0.00191\ttest-MCC:0.98080+0.00023\n",
      "[23]\ttrain-rmse:0.16954+0.00177\ttrain-MCC:0.98175+0.00006\ttest-rmse:0.17057+0.00175\ttest-MCC:0.98100+0.00025\n",
      "[24]\ttrain-rmse:0.16451+0.00165\ttrain-MCC:0.98179+0.00006\ttest-rmse:0.16556+0.00163\ttest-MCC:0.98105+0.00023\n",
      "[25]\ttrain-rmse:0.15827+0.00151\ttrain-MCC:0.98195+0.00003\ttest-rmse:0.15939+0.00150\ttest-MCC:0.98119+0.00019\n",
      "[26]\ttrain-rmse:0.15584+0.00144\ttrain-MCC:0.98194+0.00003\ttest-rmse:0.15697+0.00143\ttest-MCC:0.98118+0.00018\n",
      "[27]\ttrain-rmse:0.15195+0.00136\ttrain-MCC:0.98197+0.00004\ttest-rmse:0.15312+0.00135\ttest-MCC:0.98122+0.00020\n",
      "[28]\ttrain-rmse:0.14678+0.00130\ttrain-MCC:0.98209+0.00004\ttest-rmse:0.14800+0.00132\ttest-MCC:0.98132+0.00021\n",
      "[29]\ttrain-rmse:0.14348+0.00122\ttrain-MCC:0.98216+0.00004\ttest-rmse:0.14472+0.00124\ttest-MCC:0.98139+0.00022\n",
      "[30]\ttrain-rmse:0.14019+0.00114\ttrain-MCC:0.98226+0.00004\ttest-rmse:0.14148+0.00117\ttest-MCC:0.98150+0.00020\n",
      "[31]\ttrain-rmse:0.13579+0.00104\ttrain-MCC:0.98237+0.00003\ttest-rmse:0.13715+0.00108\ttest-MCC:0.98158+0.00023\n",
      "[32]\ttrain-rmse:0.13244+0.00094\ttrain-MCC:0.98245+0.00004\ttest-rmse:0.13384+0.00099\ttest-MCC:0.98165+0.00023\n",
      "[33]\ttrain-rmse:0.12963+0.00086\ttrain-MCC:0.98248+0.00003\ttest-rmse:0.13107+0.00091\ttest-MCC:0.98169+0.00021\n",
      "[34]\ttrain-rmse:0.12748+0.00076\ttrain-MCC:0.98253+0.00002\ttest-rmse:0.12896+0.00084\ttest-MCC:0.98172+0.00021\n",
      "[35]\ttrain-rmse:0.12603+0.00075\ttrain-MCC:0.98255+0.00002\ttest-rmse:0.12752+0.00083\ttest-MCC:0.98175+0.00022\n",
      "[36]\ttrain-rmse:0.12515+0.00073\ttrain-MCC:0.98255+0.00003\ttest-rmse:0.12664+0.00080\ttest-MCC:0.98176+0.00025\n",
      "[37]\ttrain-rmse:0.12361+0.00065\ttrain-MCC:0.98257+0.00003\ttest-rmse:0.12512+0.00077\ttest-MCC:0.98177+0.00025\n",
      "[38]\ttrain-rmse:0.12120+0.00059\ttrain-MCC:0.98264+0.00002\ttest-rmse:0.12276+0.00071\ttest-MCC:0.98183+0.00022\n",
      "[39]\ttrain-rmse:0.11979+0.00055\ttrain-MCC:0.98267+0.00003\ttest-rmse:0.12137+0.00068\ttest-MCC:0.98186+0.00023\n",
      "[40]\ttrain-rmse:0.11860+0.00052\ttrain-MCC:0.98267+0.00003\ttest-rmse:0.12019+0.00065\ttest-MCC:0.98188+0.00025\n",
      "[41]\ttrain-rmse:0.11765+0.00049\ttrain-MCC:0.98267+0.00002\ttest-rmse:0.11925+0.00063\ttest-MCC:0.98189+0.00024\n",
      "[42]\ttrain-rmse:0.11655+0.00046\ttrain-MCC:0.98271+0.00002\ttest-rmse:0.11817+0.00059\ttest-MCC:0.98192+0.00024\n",
      "[43]\ttrain-rmse:0.11586+0.00044\ttrain-MCC:0.98272+0.00003\ttest-rmse:0.11748+0.00058\ttest-MCC:0.98194+0.00023\n",
      "[44]\ttrain-rmse:0.11406+0.00031\ttrain-MCC:0.98279+0.00003\ttest-rmse:0.11571+0.00045\ttest-MCC:0.98201+0.00022\n",
      "[45]\ttrain-rmse:0.11268+0.00028\ttrain-MCC:0.98281+0.00002\ttest-rmse:0.11437+0.00044\ttest-MCC:0.98202+0.00023\n",
      "[46]\ttrain-rmse:0.11192+0.00016\ttrain-MCC:0.98282+0.00003\ttest-rmse:0.11361+0.00033\ttest-MCC:0.98204+0.00022\n",
      "[47]\ttrain-rmse:0.11082+0.00039\ttrain-MCC:0.98286+0.00005\ttest-rmse:0.11254+0.00056\ttest-MCC:0.98208+0.00022\n",
      "[48]\ttrain-rmse:0.10964+0.00033\ttrain-MCC:0.98290+0.00005\ttest-rmse:0.11137+0.00050\ttest-MCC:0.98212+0.00020\n",
      "[49]\ttrain-rmse:0.10869+0.00034\ttrain-MCC:0.98294+0.00005\ttest-rmse:0.11045+0.00042\ttest-MCC:0.98215+0.00020\n",
      "[50]\ttrain-rmse:0.10799+0.00033\ttrain-MCC:0.98296+0.00005\ttest-rmse:0.10976+0.00042\ttest-MCC:0.98216+0.00020\n",
      "[51]\ttrain-rmse:0.10718+0.00036\ttrain-MCC:0.98299+0.00005\ttest-rmse:0.10898+0.00040\ttest-MCC:0.98218+0.00019\n",
      "[52]\ttrain-rmse:0.10637+0.00034\ttrain-MCC:0.98301+0.00005\ttest-rmse:0.10819+0.00039\ttest-MCC:0.98218+0.00018\n",
      "[53]\ttrain-rmse:0.10566+0.00032\ttrain-MCC:0.98302+0.00005\ttest-rmse:0.10749+0.00037\ttest-MCC:0.98219+0.00018\n",
      "[54]\ttrain-rmse:0.10536+0.00030\ttrain-MCC:0.98302+0.00005\ttest-rmse:0.10720+0.00036\ttest-MCC:0.98219+0.00019\n",
      "[55]\ttrain-rmse:0.10500+0.00028\ttrain-MCC:0.98303+0.00004\ttest-rmse:0.10685+0.00036\ttest-MCC:0.98220+0.00019\n",
      "[56]\ttrain-rmse:0.10465+0.00027\ttrain-MCC:0.98304+0.00004\ttest-rmse:0.10651+0.00034\ttest-MCC:0.98222+0.00018\n",
      "[57]\ttrain-rmse:0.10395+0.00025\ttrain-MCC:0.98307+0.00005\ttest-rmse:0.10585+0.00033\ttest-MCC:0.98225+0.00018\n",
      "[58]\ttrain-rmse:0.10326+0.00024\ttrain-MCC:0.98311+0.00005\ttest-rmse:0.10518+0.00035\ttest-MCC:0.98229+0.00017\n",
      "[59]\ttrain-rmse:0.10262+0.00034\ttrain-MCC:0.98315+0.00005\ttest-rmse:0.10457+0.00033\ttest-MCC:0.98231+0.00016\n",
      "[60]\ttrain-rmse:0.10233+0.00032\ttrain-MCC:0.98316+0.00005\ttest-rmse:0.10428+0.00031\ttest-MCC:0.98231+0.00015\n",
      "[61]\ttrain-rmse:0.10192+0.00032\ttrain-MCC:0.98318+0.00005\ttest-rmse:0.10389+0.00033\ttest-MCC:0.98232+0.00015\n",
      "[62]\ttrain-rmse:0.10144+0.00033\ttrain-MCC:0.98320+0.00004\ttest-rmse:0.10343+0.00038\ttest-MCC:0.98233+0.00014\n",
      "[63]\ttrain-rmse:0.10121+0.00033\ttrain-MCC:0.98321+0.00004\ttest-rmse:0.10320+0.00038\ttest-MCC:0.98233+0.00015\n",
      "[64]\ttrain-rmse:0.10109+0.00032\ttrain-MCC:0.98321+0.00004\ttest-rmse:0.10309+0.00038\ttest-MCC:0.98234+0.00015\n",
      "[65]\ttrain-rmse:0.10099+0.00032\ttrain-MCC:0.98321+0.00005\ttest-rmse:0.10299+0.00038\ttest-MCC:0.98233+0.00015\n",
      "[66]\ttrain-rmse:0.10051+0.00030\ttrain-MCC:0.98325+0.00005\ttest-rmse:0.10254+0.00037\ttest-MCC:0.98238+0.00014\n",
      "[67]\ttrain-rmse:0.10012+0.00024\ttrain-MCC:0.98327+0.00004\ttest-rmse:0.10217+0.00028\ttest-MCC:0.98239+0.00015\n",
      "[68]\ttrain-rmse:0.10001+0.00025\ttrain-MCC:0.98327+0.00004\ttest-rmse:0.10206+0.00029\ttest-MCC:0.98239+0.00015\n",
      "[69]\ttrain-rmse:0.09985+0.00025\ttrain-MCC:0.98328+0.00004\ttest-rmse:0.10191+0.00029\ttest-MCC:0.98239+0.00014\n",
      "[70]\ttrain-rmse:0.09942+0.00015\ttrain-MCC:0.98332+0.00003\ttest-rmse:0.10149+0.00030\ttest-MCC:0.98245+0.00015\n",
      "[71]\ttrain-rmse:0.09920+0.00015\ttrain-MCC:0.98333+0.00004\ttest-rmse:0.10129+0.00031\ttest-MCC:0.98246+0.00015\n",
      "[72]\ttrain-rmse:0.09894+0.00013\ttrain-MCC:0.98335+0.00003\ttest-rmse:0.10104+0.00029\ttest-MCC:0.98247+0.00016\n",
      "[73]\ttrain-rmse:0.09884+0.00014\ttrain-MCC:0.98335+0.00003\ttest-rmse:0.10095+0.00030\ttest-MCC:0.98248+0.00015\n",
      "[74]\ttrain-rmse:0.09864+0.00011\ttrain-MCC:0.98337+0.00003\ttest-rmse:0.10075+0.00031\ttest-MCC:0.98249+0.00015\n",
      "[75]\ttrain-rmse:0.09853+0.00011\ttrain-MCC:0.98337+0.00003\ttest-rmse:0.10064+0.00031\ttest-MCC:0.98249+0.00016\n",
      "[76]\ttrain-rmse:0.09848+0.00011\ttrain-MCC:0.98337+0.00003\ttest-rmse:0.10059+0.00031\ttest-MCC:0.98249+0.00016\n",
      "[77]\ttrain-rmse:0.09840+0.00010\ttrain-MCC:0.98338+0.00003\ttest-rmse:0.10052+0.00030\ttest-MCC:0.98249+0.00015\n",
      "[78]\ttrain-rmse:0.09835+0.00010\ttrain-MCC:0.98338+0.00003\ttest-rmse:0.10046+0.00030\ttest-MCC:0.98250+0.00015\n",
      "[79]\ttrain-rmse:0.09807+0.00011\ttrain-MCC:0.98339+0.00003\ttest-rmse:0.10020+0.00031\ttest-MCC:0.98251+0.00014\n",
      "[80]\ttrain-rmse:0.09767+0.00011\ttrain-MCC:0.98344+0.00003\ttest-rmse:0.09985+0.00030\ttest-MCC:0.98255+0.00015\n",
      "[81]\ttrain-rmse:0.09759+0.00010\ttrain-MCC:0.98344+0.00003\ttest-rmse:0.09976+0.00031\ttest-MCC:0.98256+0.00015\n",
      "[82]\ttrain-rmse:0.09726+0.00004\ttrain-MCC:0.98347+0.00003\ttest-rmse:0.09947+0.00035\ttest-MCC:0.98257+0.00016\n",
      "[83]\ttrain-rmse:0.09715+0.00005\ttrain-MCC:0.98347+0.00003\ttest-rmse:0.09936+0.00035\ttest-MCC:0.98257+0.00017\n",
      "[84]\ttrain-rmse:0.09699+0.00005\ttrain-MCC:0.98349+0.00003\ttest-rmse:0.09921+0.00035\ttest-MCC:0.98259+0.00017\n",
      "[85]\ttrain-rmse:0.09694+0.00005\ttrain-MCC:0.98349+0.00003\ttest-rmse:0.09917+0.00034\ttest-MCC:0.98258+0.00017\n",
      "[86]\ttrain-rmse:0.09672+0.00008\ttrain-MCC:0.98352+0.00003\ttest-rmse:0.09898+0.00037\ttest-MCC:0.98261+0.00018\n",
      "[87]\ttrain-rmse:0.09658+0.00007\ttrain-MCC:0.98353+0.00003\ttest-rmse:0.09883+0.00036\ttest-MCC:0.98262+0.00018\n",
      "[88]\ttrain-rmse:0.09626+0.00006\ttrain-MCC:0.98357+0.00002\ttest-rmse:0.09855+0.00034\ttest-MCC:0.98266+0.00016\n",
      "[89]\ttrain-rmse:0.09617+0.00007\ttrain-MCC:0.98357+0.00002\ttest-rmse:0.09846+0.00034\ttest-MCC:0.98267+0.00017\n",
      "[90]\ttrain-rmse:0.09594+0.00007\ttrain-MCC:0.98359+0.00003\ttest-rmse:0.09825+0.00034\ttest-MCC:0.98269+0.00017\n",
      "[91]\ttrain-rmse:0.09591+0.00007\ttrain-MCC:0.98359+0.00003\ttest-rmse:0.09821+0.00034\ttest-MCC:0.98269+0.00018\n",
      "[92]\ttrain-rmse:0.09584+0.00008\ttrain-MCC:0.98360+0.00003\ttest-rmse:0.09815+0.00035\ttest-MCC:0.98270+0.00018\n",
      "[93]\ttrain-rmse:0.09578+0.00008\ttrain-MCC:0.98360+0.00003\ttest-rmse:0.09810+0.00035\ttest-MCC:0.98270+0.00017\n",
      "[94]\ttrain-rmse:0.09558+0.00010\ttrain-MCC:0.98362+0.00003\ttest-rmse:0.09792+0.00036\ttest-MCC:0.98270+0.00017\n",
      "[95]\ttrain-rmse:0.09551+0.00010\ttrain-MCC:0.98362+0.00002\ttest-rmse:0.09785+0.00036\ttest-MCC:0.98271+0.00017\n",
      "[96]\ttrain-rmse:0.09538+0.00010\ttrain-MCC:0.98363+0.00003\ttest-rmse:0.09773+0.00036\ttest-MCC:0.98274+0.00017\n",
      "[97]\ttrain-rmse:0.09534+0.00010\ttrain-MCC:0.98363+0.00003\ttest-rmse:0.09769+0.00036\ttest-MCC:0.98273+0.00017\n",
      "[98]\ttrain-rmse:0.09530+0.00010\ttrain-MCC:0.98363+0.00002\ttest-rmse:0.09765+0.00035\ttest-MCC:0.98274+0.00017\n",
      "[99]\ttrain-rmse:0.09522+0.00010\ttrain-MCC:0.98364+0.00003\ttest-rmse:0.09758+0.00035\ttest-MCC:0.98275+0.00016\n",
      "[100]\ttrain-rmse:0.09521+0.00010\ttrain-MCC:0.98364+0.00003\ttest-rmse:0.09757+0.00035\ttest-MCC:0.98276+0.00016\n",
      "[101]\ttrain-rmse:0.09506+0.00010\ttrain-MCC:0.98364+0.00002\ttest-rmse:0.09743+0.00035\ttest-MCC:0.98276+0.00016\n",
      "[102]\ttrain-rmse:0.09495+0.00010\ttrain-MCC:0.98367+0.00003\ttest-rmse:0.09734+0.00035\ttest-MCC:0.98276+0.00016\n",
      "[103]\ttrain-rmse:0.09492+0.00010\ttrain-MCC:0.98367+0.00003\ttest-rmse:0.09731+0.00035\ttest-MCC:0.98277+0.00016\n",
      "[104]\ttrain-rmse:0.09487+0.00011\ttrain-MCC:0.98367+0.00003\ttest-rmse:0.09726+0.00035\ttest-MCC:0.98277+0.00017\n",
      "[105]\ttrain-rmse:0.09484+0.00010\ttrain-MCC:0.98367+0.00003\ttest-rmse:0.09724+0.00035\ttest-MCC:0.98277+0.00017\n",
      "[106]\ttrain-rmse:0.09477+0.00011\ttrain-MCC:0.98367+0.00003\ttest-rmse:0.09718+0.00033\ttest-MCC:0.98277+0.00017\n",
      "[107]\ttrain-rmse:0.09463+0.00008\ttrain-MCC:0.98369+0.00002\ttest-rmse:0.09705+0.00036\ttest-MCC:0.98278+0.00017\n",
      "[108]\ttrain-rmse:0.09460+0.00008\ttrain-MCC:0.98369+0.00002\ttest-rmse:0.09702+0.00036\ttest-MCC:0.98278+0.00017\n",
      "[109]\ttrain-rmse:0.09457+0.00007\ttrain-MCC:0.98369+0.00002\ttest-rmse:0.09699+0.00036\ttest-MCC:0.98278+0.00017\n",
      "[110]\ttrain-rmse:0.09444+0.00008\ttrain-MCC:0.98372+0.00002\ttest-rmse:0.09688+0.00036\ttest-MCC:0.98279+0.00017\n",
      "[111]\ttrain-rmse:0.09440+0.00009\ttrain-MCC:0.98372+0.00002\ttest-rmse:0.09683+0.00036\ttest-MCC:0.98280+0.00017\n",
      "[112]\ttrain-rmse:0.09428+0.00009\ttrain-MCC:0.98373+0.00003\ttest-rmse:0.09673+0.00036\ttest-MCC:0.98281+0.00017\n",
      "[113]\ttrain-rmse:0.09416+0.00011\ttrain-MCC:0.98375+0.00003\ttest-rmse:0.09663+0.00038\ttest-MCC:0.98282+0.00017\n",
      "[114]\ttrain-rmse:0.09395+0.00010\ttrain-MCC:0.98378+0.00003\ttest-rmse:0.09645+0.00038\ttest-MCC:0.98283+0.00017\n",
      "[115]\ttrain-rmse:0.09376+0.00009\ttrain-MCC:0.98380+0.00003\ttest-rmse:0.09628+0.00038\ttest-MCC:0.98285+0.00018\n",
      "[116]\ttrain-rmse:0.09373+0.00009\ttrain-MCC:0.98380+0.00003\ttest-rmse:0.09625+0.00038\ttest-MCC:0.98285+0.00018\n",
      "[117]\ttrain-rmse:0.09370+0.00009\ttrain-MCC:0.98380+0.00003\ttest-rmse:0.09622+0.00038\ttest-MCC:0.98286+0.00018\n",
      "[118]\ttrain-rmse:0.09367+0.00009\ttrain-MCC:0.98380+0.00003\ttest-rmse:0.09620+0.00038\ttest-MCC:0.98286+0.00018\n",
      "[119]\ttrain-rmse:0.09356+0.00009\ttrain-MCC:0.98382+0.00003\ttest-rmse:0.09609+0.00038\ttest-MCC:0.98287+0.00019\n",
      "[120]\ttrain-rmse:0.09343+0.00013\ttrain-MCC:0.98383+0.00004\ttest-rmse:0.09599+0.00038\ttest-MCC:0.98288+0.00018\n",
      "[121]\ttrain-rmse:0.09336+0.00013\ttrain-MCC:0.98384+0.00004\ttest-rmse:0.09593+0.00038\ttest-MCC:0.98289+0.00018\n",
      "[122]\ttrain-rmse:0.09327+0.00015\ttrain-MCC:0.98385+0.00005\ttest-rmse:0.09585+0.00039\ttest-MCC:0.98290+0.00019\n",
      "[123]\ttrain-rmse:0.09325+0.00015\ttrain-MCC:0.98386+0.00005\ttest-rmse:0.09583+0.00039\ttest-MCC:0.98290+0.00019\n",
      "[124]\ttrain-rmse:0.09321+0.00014\ttrain-MCC:0.98386+0.00005\ttest-rmse:0.09579+0.00038\ttest-MCC:0.98290+0.00018\n",
      "[125]\ttrain-rmse:0.09319+0.00014\ttrain-MCC:0.98386+0.00004\ttest-rmse:0.09577+0.00038\ttest-MCC:0.98291+0.00019\n",
      "[126]\ttrain-rmse:0.09306+0.00013\ttrain-MCC:0.98388+0.00004\ttest-rmse:0.09567+0.00038\ttest-MCC:0.98292+0.00019\n",
      "[127]\ttrain-rmse:0.09303+0.00013\ttrain-MCC:0.98388+0.00004\ttest-rmse:0.09564+0.00038\ttest-MCC:0.98292+0.00019\n",
      "[128]\ttrain-rmse:0.09298+0.00013\ttrain-MCC:0.98388+0.00004\ttest-rmse:0.09560+0.00038\ttest-MCC:0.98292+0.00019\n",
      "[129]\ttrain-rmse:0.09291+0.00013\ttrain-MCC:0.98389+0.00004\ttest-rmse:0.09554+0.00038\ttest-MCC:0.98292+0.00019\n",
      "[130]\ttrain-rmse:0.09290+0.00013\ttrain-MCC:0.98389+0.00004\ttest-rmse:0.09553+0.00038\ttest-MCC:0.98292+0.00019\n",
      "[131]\ttrain-rmse:0.09283+0.00012\ttrain-MCC:0.98390+0.00004\ttest-rmse:0.09547+0.00038\ttest-MCC:0.98293+0.00020\n",
      "[132]\ttrain-rmse:0.09274+0.00012\ttrain-MCC:0.98391+0.00004\ttest-rmse:0.09539+0.00037\ttest-MCC:0.98293+0.00019\n",
      "[133]\ttrain-rmse:0.09271+0.00013\ttrain-MCC:0.98392+0.00004\ttest-rmse:0.09536+0.00038\ttest-MCC:0.98294+0.00019\n",
      "[134]\ttrain-rmse:0.09270+0.00013\ttrain-MCC:0.98392+0.00004\ttest-rmse:0.09535+0.00038\ttest-MCC:0.98294+0.00019\n",
      "[135]\ttrain-rmse:0.09263+0.00013\ttrain-MCC:0.98393+0.00004\ttest-rmse:0.09529+0.00038\ttest-MCC:0.98295+0.00019\n",
      "[136]\ttrain-rmse:0.09256+0.00012\ttrain-MCC:0.98394+0.00004\ttest-rmse:0.09523+0.00038\ttest-MCC:0.98296+0.00018\n",
      "[137]\ttrain-rmse:0.09253+0.00012\ttrain-MCC:0.98394+0.00004\ttest-rmse:0.09520+0.00038\ttest-MCC:0.98296+0.00018\n",
      "[138]\ttrain-rmse:0.09243+0.00010\ttrain-MCC:0.98396+0.00003\ttest-rmse:0.09512+0.00038\ttest-MCC:0.98297+0.00018\n",
      "[139]\ttrain-rmse:0.09242+0.00010\ttrain-MCC:0.98396+0.00003\ttest-rmse:0.09511+0.00038\ttest-MCC:0.98297+0.00018\n",
      "[140]\ttrain-rmse:0.09241+0.00010\ttrain-MCC:0.98396+0.00003\ttest-rmse:0.09510+0.00038\ttest-MCC:0.98297+0.00018\n",
      "[141]\ttrain-rmse:0.09234+0.00009\ttrain-MCC:0.98397+0.00003\ttest-rmse:0.09505+0.00038\ttest-MCC:0.98298+0.00018\n",
      "[142]\ttrain-rmse:0.09229+0.00010\ttrain-MCC:0.98397+0.00003\ttest-rmse:0.09500+0.00038\ttest-MCC:0.98299+0.00018\n",
      "[143]\ttrain-rmse:0.09227+0.00010\ttrain-MCC:0.98398+0.00003\ttest-rmse:0.09499+0.00038\ttest-MCC:0.98299+0.00018\n",
      "[144]\ttrain-rmse:0.09225+0.00010\ttrain-MCC:0.98398+0.00003\ttest-rmse:0.09497+0.00039\ttest-MCC:0.98299+0.00018\n",
      "[145]\ttrain-rmse:0.09224+0.00010\ttrain-MCC:0.98398+0.00003\ttest-rmse:0.09497+0.00038\ttest-MCC:0.98299+0.00018\n",
      "[146]\ttrain-rmse:0.09223+0.00010\ttrain-MCC:0.98398+0.00003\ttest-rmse:0.09496+0.00038\ttest-MCC:0.98299+0.00018\n",
      "[147]\ttrain-rmse:0.09222+0.00010\ttrain-MCC:0.98398+0.00003\ttest-rmse:0.09495+0.00038\ttest-MCC:0.98299+0.00018\n",
      "[148]\ttrain-rmse:0.09217+0.00011\ttrain-MCC:0.98398+0.00003\ttest-rmse:0.09490+0.00039\ttest-MCC:0.98299+0.00018\n",
      "[149]\ttrain-rmse:0.09209+0.00011\ttrain-MCC:0.98400+0.00003\ttest-rmse:0.09483+0.00040\ttest-MCC:0.98300+0.00018\n",
      "[150]\ttrain-rmse:0.09200+0.00010\ttrain-MCC:0.98401+0.00003\ttest-rmse:0.09477+0.00039\ttest-MCC:0.98300+0.00018\n",
      "[151]\ttrain-rmse:0.09194+0.00010\ttrain-MCC:0.98401+0.00003\ttest-rmse:0.09472+0.00039\ttest-MCC:0.98301+0.00019\n",
      "[152]\ttrain-rmse:0.09192+0.00010\ttrain-MCC:0.98401+0.00003\ttest-rmse:0.09470+0.00039\ttest-MCC:0.98302+0.00019\n",
      "[153]\ttrain-rmse:0.09187+0.00009\ttrain-MCC:0.98402+0.00003\ttest-rmse:0.09466+0.00039\ttest-MCC:0.98302+0.00018\n",
      "[154]\ttrain-rmse:0.09184+0.00008\ttrain-MCC:0.98402+0.00003\ttest-rmse:0.09464+0.00039\ttest-MCC:0.98302+0.00018\n",
      "[155]\ttrain-rmse:0.09184+0.00008\ttrain-MCC:0.98402+0.00003\ttest-rmse:0.09463+0.00038\ttest-MCC:0.98302+0.00018\n",
      "[156]\ttrain-rmse:0.09179+0.00007\ttrain-MCC:0.98403+0.00002\ttest-rmse:0.09459+0.00038\ttest-MCC:0.98303+0.00019\n",
      "[157]\ttrain-rmse:0.09176+0.00007\ttrain-MCC:0.98403+0.00002\ttest-rmse:0.09457+0.00038\ttest-MCC:0.98303+0.00019\n",
      "[158]\ttrain-rmse:0.09175+0.00007\ttrain-MCC:0.98403+0.00003\ttest-rmse:0.09456+0.00038\ttest-MCC:0.98303+0.00019\n",
      "[159]\ttrain-rmse:0.09173+0.00007\ttrain-MCC:0.98403+0.00003\ttest-rmse:0.09455+0.00038\ttest-MCC:0.98303+0.00019\n",
      "[160]\ttrain-rmse:0.09163+0.00007\ttrain-MCC:0.98405+0.00003\ttest-rmse:0.09446+0.00037\ttest-MCC:0.98304+0.00019\n",
      "[161]\ttrain-rmse:0.09162+0.00006\ttrain-MCC:0.98405+0.00002\ttest-rmse:0.09445+0.00037\ttest-MCC:0.98304+0.00019\n",
      "[162]\ttrain-rmse:0.09161+0.00006\ttrain-MCC:0.98405+0.00002\ttest-rmse:0.09445+0.00037\ttest-MCC:0.98304+0.00019\n",
      "[163]\ttrain-rmse:0.09159+0.00007\ttrain-MCC:0.98405+0.00002\ttest-rmse:0.09443+0.00036\ttest-MCC:0.98304+0.00019\n",
      "[164]\ttrain-rmse:0.09153+0.00006\ttrain-MCC:0.98406+0.00003\ttest-rmse:0.09439+0.00037\ttest-MCC:0.98304+0.00019\n",
      "[165]\ttrain-rmse:0.09150+0.00006\ttrain-MCC:0.98406+0.00002\ttest-rmse:0.09436+0.00037\ttest-MCC:0.98304+0.00019\n",
      "[166]\ttrain-rmse:0.09150+0.00006\ttrain-MCC:0.98406+0.00003\ttest-rmse:0.09435+0.00037\ttest-MCC:0.98304+0.00019\n",
      "[167]\ttrain-rmse:0.09145+0.00005\ttrain-MCC:0.98407+0.00003\ttest-rmse:0.09432+0.00037\ttest-MCC:0.98304+0.00019\n",
      "[168]\ttrain-rmse:0.09144+0.00006\ttrain-MCC:0.98407+0.00003\ttest-rmse:0.09430+0.00037\ttest-MCC:0.98304+0.00019\n",
      "[169]\ttrain-rmse:0.09142+0.00006\ttrain-MCC:0.98408+0.00003\ttest-rmse:0.09429+0.00037\ttest-MCC:0.98305+0.00019\n",
      "[170]\ttrain-rmse:0.09141+0.00006\ttrain-MCC:0.98408+0.00003\ttest-rmse:0.09428+0.00037\ttest-MCC:0.98305+0.00018\n",
      "[171]\ttrain-rmse:0.09140+0.00006\ttrain-MCC:0.98408+0.00002\ttest-rmse:0.09427+0.00037\ttest-MCC:0.98305+0.00018\n",
      "[172]\ttrain-rmse:0.09139+0.00006\ttrain-MCC:0.98408+0.00003\ttest-rmse:0.09426+0.00037\ttest-MCC:0.98305+0.00018\n",
      "[173]\ttrain-rmse:0.09138+0.00006\ttrain-MCC:0.98408+0.00002\ttest-rmse:0.09425+0.00037\ttest-MCC:0.98305+0.00018\n",
      "[174]\ttrain-rmse:0.09137+0.00006\ttrain-MCC:0.98408+0.00002\ttest-rmse:0.09424+0.00037\ttest-MCC:0.98305+0.00018\n",
      "[175]\ttrain-rmse:0.09136+0.00006\ttrain-MCC:0.98408+0.00002\ttest-rmse:0.09424+0.00037\ttest-MCC:0.98305+0.00018\n",
      "[176]\ttrain-rmse:0.09136+0.00006\ttrain-MCC:0.98408+0.00002\ttest-rmse:0.09424+0.00037\ttest-MCC:0.98305+0.00018\n",
      "[177]\ttrain-rmse:0.09136+0.00006\ttrain-MCC:0.98408+0.00002\ttest-rmse:0.09423+0.00037\ttest-MCC:0.98305+0.00019\n",
      "[178]\ttrain-rmse:0.09135+0.00006\ttrain-MCC:0.98408+0.00002\ttest-rmse:0.09423+0.00037\ttest-MCC:0.98305+0.00019\n",
      "[179]\ttrain-rmse:0.09134+0.00005\ttrain-MCC:0.98408+0.00002\ttest-rmse:0.09421+0.00037\ttest-MCC:0.98305+0.00019\n",
      "[180]\ttrain-rmse:0.09134+0.00005\ttrain-MCC:0.98408+0.00002\ttest-rmse:0.09421+0.00037\ttest-MCC:0.98305+0.00019\n",
      "[181]\ttrain-rmse:0.09134+0.00005\ttrain-MCC:0.98408+0.00002\ttest-rmse:0.09421+0.00037\ttest-MCC:0.98305+0.00019\n",
      "[182]\ttrain-rmse:0.09134+0.00005\ttrain-MCC:0.98408+0.00002\ttest-rmse:0.09421+0.00037\ttest-MCC:0.98305+0.00019\n",
      "[183]\ttrain-rmse:0.09131+0.00005\ttrain-MCC:0.98409+0.00002\ttest-rmse:0.09419+0.00037\ttest-MCC:0.98305+0.00018\n",
      "[184]\ttrain-rmse:0.09130+0.00005\ttrain-MCC:0.98408+0.00002\ttest-rmse:0.09418+0.00037\ttest-MCC:0.98305+0.00018\n",
      "[185]\ttrain-rmse:0.09130+0.00005\ttrain-MCC:0.98408+0.00002\ttest-rmse:0.09418+0.00037\ttest-MCC:0.98305+0.00018\n",
      "[186]\ttrain-rmse:0.09130+0.00005\ttrain-MCC:0.98408+0.00002\ttest-rmse:0.09418+0.00037\ttest-MCC:0.98305+0.00018\n",
      "[187]\ttrain-rmse:0.09125+0.00005\ttrain-MCC:0.98409+0.00002\ttest-rmse:0.09414+0.00036\ttest-MCC:0.98306+0.00018\n",
      "[188]\ttrain-rmse:0.09123+0.00006\ttrain-MCC:0.98410+0.00002\ttest-rmse:0.09412+0.00036\ttest-MCC:0.98306+0.00018\n",
      "[189]\ttrain-rmse:0.09122+0.00006\ttrain-MCC:0.98410+0.00003\ttest-rmse:0.09411+0.00036\ttest-MCC:0.98306+0.00018\n",
      "[190]\ttrain-rmse:0.09121+0.00006\ttrain-MCC:0.98410+0.00002\ttest-rmse:0.09410+0.00036\ttest-MCC:0.98306+0.00018\n",
      "[191]\ttrain-rmse:0.09120+0.00006\ttrain-MCC:0.98410+0.00002\ttest-rmse:0.09410+0.00036\ttest-MCC:0.98306+0.00018\n",
      "[192]\ttrain-rmse:0.09116+0.00005\ttrain-MCC:0.98410+0.00002\ttest-rmse:0.09406+0.00037\ttest-MCC:0.98306+0.00018\n",
      "[193]\ttrain-rmse:0.09112+0.00005\ttrain-MCC:0.98411+0.00002\ttest-rmse:0.09403+0.00037\ttest-MCC:0.98306+0.00018\n",
      "[194]\ttrain-rmse:0.09111+0.00005\ttrain-MCC:0.98411+0.00002\ttest-rmse:0.09402+0.00037\ttest-MCC:0.98307+0.00018\n",
      "[195]\ttrain-rmse:0.09110+0.00005\ttrain-MCC:0.98411+0.00002\ttest-rmse:0.09402+0.00037\ttest-MCC:0.98307+0.00018\n",
      "[196]\ttrain-rmse:0.09106+0.00006\ttrain-MCC:0.98412+0.00002\ttest-rmse:0.09398+0.00038\ttest-MCC:0.98307+0.00018\n",
      "[197]\ttrain-rmse:0.09106+0.00006\ttrain-MCC:0.98412+0.00002\ttest-rmse:0.09398+0.00038\ttest-MCC:0.98307+0.00018\n",
      "[198]\ttrain-rmse:0.09105+0.00006\ttrain-MCC:0.98412+0.00002\ttest-rmse:0.09398+0.00037\ttest-MCC:0.98307+0.00018\n",
      "[199]\ttrain-rmse:0.09104+0.00006\ttrain-MCC:0.98412+0.00002\ttest-rmse:0.09396+0.00037\ttest-MCC:0.98308+0.00018\n"
     ]
    }
   ],
   "source": [
    "from sklearn.model_selection import KFold\n",
    "\n",
    "print(\"Training best model...\")\n",
    "evals_best_result = {}\n",
    "\n",
    "cv_results = xgb.cv(\n",
    "    best_params,\n",
    "    dtrain,\n",
    "    num_boost_round=1000,\n",
    "    nfold=5,\n",
    "    shuffle=True,\n",
    "    seed=42,\n",
    "    feval=fval,  # Custom evaluation metric\n",
    "    maximize=True,\n",
    "    as_pandas=True,\n",
    "    callbacks=[\n",
    "        xgb.callback.EvaluationMonitor(show_stdv=True),\n",
    "        xgb.callback.EarlyStopping(50),\n",
    "    ],\n",
    ")\n",
    "gc.collect()\n",
    "# evals_result[\"eval\"][metric][-1]\n",
    "# Use the best score for the final iteration\n",
    "score = cv_results[\"test-MCC-mean\"].values[-1]"
   ]
  },
  {
   "cell_type": "code",
   "execution_count": 13,
   "metadata": {},
   "outputs": [
    {
     "data": {
      "text/plain": [
       "0.0"
      ]
     },
     "execution_count": 13,
     "metadata": {},
     "output_type": "execute_result"
    }
   ],
   "source": [
    "score"
   ]
  }
 ],
 "metadata": {
  "kernelspec": {
   "display_name": "kaggle",
   "language": "python",
   "name": "python3"
  },
  "language_info": {
   "codemirror_mode": {
    "name": "ipython",
    "version": 3
   },
   "file_extension": ".py",
   "mimetype": "text/x-python",
   "name": "python",
   "nbconvert_exporter": "python",
   "pygments_lexer": "ipython3",
   "version": "3.11.7"
  }
 },
 "nbformat": 4,
 "nbformat_minor": 4
}
