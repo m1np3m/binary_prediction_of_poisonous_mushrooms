{
 "cells": [
  {
   "cell_type": "code",
   "execution_count": 1,
   "metadata": {},
   "outputs": [
    {
     "name": "stdout",
     "output_type": "stream",
     "text": [
      "No Nvidia GPU in system!\n"
     ]
    }
   ],
   "source": [
    "import pandas as pd\n",
    "import numpy as np\n",
    "import subprocess\n",
    "import xgboost as xgb\n",
    "\n",
    "is_tunning = True\n",
    "device = \"cpu\"\n",
    "goal = \"binary\"\n",
    "objective_mapping = {\n",
    "    \"regression\": {\"metric\": \"rmse\"},\n",
    "    \"binary\": {\"metric\": \"binary_logloss\"},\n",
    "}\n",
    "try:\n",
    "    rs = subprocess.check_output(\"nvidia-smi\")\n",
    "    device = \"gpu\" if rs is not None else \"cpu\"\n",
    "    print(f\"device: {device}\")\n",
    "except (\n",
    "    Exception\n",
    "):  # this command not being found can raise quite a few different errors depending on the configuration\n",
    "    print(\"No Nvidia GPU in system!\")"
   ]
  },
  {
   "cell_type": "code",
   "execution_count": 2,
   "metadata": {},
   "outputs": [],
   "source": [
    "train = pd.read_csv(\"train.csv\")\n",
    "test = pd.read_csv(\"test.csv\")"
   ]
  },
  {
   "cell_type": "code",
   "execution_count": 3,
   "metadata": {},
   "outputs": [],
   "source": [
    "from sklearn.model_selection import train_test_split\n",
    "\n",
    "target = \"class\"\n",
    "X_train, X_val, y_train, y_val = train_test_split(\n",
    "    train.drop(columns=target), train[target], test_size=0.2, random_state=42\n",
    ")\n",
    "X_test = test"
   ]
  },
  {
   "cell_type": "code",
   "execution_count": 4,
   "metadata": {},
   "outputs": [],
   "source": [
    "categorical_columns = train.drop(columns=target).select_dtypes(include=\"object\").columns.to_list()\n",
    "numerical_cols = train.drop(columns=\"id\").select_dtypes(include=\"number\").columns.to_list()"
   ]
  },
  {
   "cell_type": "code",
   "execution_count": 5,
   "metadata": {},
   "outputs": [],
   "source": [
    "from sklearn.impute import SimpleImputer\n",
    "from sklearn.preprocessing import OneHotEncoder\n",
    "from sklearn.pipeline import Pipeline\n",
    "from sklearn.compose import ColumnTransformer\n",
    "\n",
    "\n",
    "categorical_transformer = Pipeline(\n",
    "    steps=[\n",
    "        (\"imputer\", SimpleImputer(strategy=\"most_frequent\")),\n",
    "        (\"onehot\", OneHotEncoder(handle_unknown=\"ignore\")),\n",
    "    ]\n",
    ")\n",
    "# Combine the preprocessing steps into a ColumnTransformer\n",
    "preprocessor = ColumnTransformer(\n",
    "    transformers=[(\"cat\", categorical_transformer, categorical_columns)]\n",
    ")\n",
    "\n",
    "pipeline = Pipeline(steps=[(\"preprocessor\", preprocessor)])\n",
    "pipeline.fit_transform(X_train)\n",
    "# Transform both the training and testing data\n",
    "X_train_transformed = pipeline.transform(X_train).toarray()\n",
    "X_test_transformed = pipeline.transform(X_test).toarray()\n",
    "X_val_transformed = pipeline.transform(X_val).toarray()\n",
    "\n",
    "# Convert transformed features and encoded targets to DataFrames for easier handling\n",
    "X_train = pd.DataFrame(\n",
    "    X_train_transformed,\n",
    "    columns=pipeline.named_steps[\"preprocessor\"]\n",
    "    .named_transformers_[\"cat\"]\n",
    "    .named_steps[\"onehot\"]\n",
    "    .get_feature_names_out(),\n",
    ")\n",
    "X_test = pd.DataFrame(\n",
    "    X_test_transformed,\n",
    "    columns=pipeline.named_steps[\"preprocessor\"]\n",
    "    .named_transformers_[\"cat\"]\n",
    "    .named_steps[\"onehot\"]\n",
    "    .get_feature_names_out(),\n",
    ")\n",
    "X_val = pd.DataFrame(\n",
    "    X_val_transformed,\n",
    "    columns=pipeline.named_steps[\"preprocessor\"]\n",
    "    .named_transformers_[\"cat\"]\n",
    "    .named_steps[\"onehot\"]\n",
    "    .get_feature_names_out(),\n",
    ")"
   ]
  },
  {
   "cell_type": "code",
   "execution_count": 6,
   "metadata": {},
   "outputs": [
    {
     "ename": "",
     "evalue": "",
     "output_type": "error",
     "traceback": [
      "\u001b[1;31mThe Kernel crashed while executing code in the current cell or a previous cell. \n",
      "\u001b[1;31mPlease review the code in the cell(s) to identify a possible cause of the failure. \n",
      "\u001b[1;31mClick <a href='https://aka.ms/vscodeJupyterKernelCrash'>here</a> for more info. \n",
      "\u001b[1;31mView Jupyter <a href='command:jupyter.viewOutput'>log</a> for further details."
     ]
    }
   ],
   "source": [
    "from sklearn.preprocessing import LabelBinarizer\n",
    "\n",
    "# Encode the target variable\n",
    "label_encoder = LabelBinarizer()\n",
    "y_train = label_encoder.fit_transform(y_train)\n",
    "y_val = label_encoder.transform(y_val)"
   ]
  },
  {
   "cell_type": "code",
   "execution_count": 7,
   "metadata": {},
   "outputs": [
    {
     "name": "stderr",
     "output_type": "stream",
     "text": [
      "[I 2024-08-02 20:18:40,942] A new study created in RDB with name: study\n"
     ]
    },
    {
     "data": {
      "application/vnd.jupyter.widget-view+json": {
       "model_id": "889ea155c6c144b9b1a429fd2e1fba7e",
       "version_major": 2,
       "version_minor": 0
      },
      "text/plain": [
       "  0%|          | 0/100 [00:00<?, ?it/s]"
      ]
     },
     "metadata": {},
     "output_type": "display_data"
    }
   ],
   "source": [
    "import gc\n",
    "import optuna\n",
    "import lightgbm as lgb\n",
    "from datetime import datetime, timezone\n",
    "from sklearn.metrics import mean_absolute_error as mae\n",
    "import warnings\n",
    "from sklearn.metrics import r2_score\n",
    "\n",
    "\n",
    "warnings.filterwarnings(\"ignore\")\n",
    "\n",
    "metric = objective_mapping[goal][\"metric\"]\n",
    "best_params = {\n",
    "    \"objective\": goal,\n",
    "    \"metric\": metric,\n",
    "    \"boosting_type\": \"gbdt\",\n",
    "    \"device\": device,\n",
    "}\n",
    "# Create LightGBM dataset\n",
    "train_data = lgb.Dataset(\n",
    "    data=X_train,\n",
    "    label=y_train,\n",
    "    free_raw_data=False,\n",
    "    params={\"verbose\": -1},\n",
    ")\n",
    "valid_data = lgb.Dataset(\n",
    "    data=X_val,\n",
    "    label=y_val,\n",
    "    free_raw_data=False,\n",
    "    params={\"verbose\": -1},\n",
    ")\n",
    "\n",
    "\n",
    "def mcc_eval(y_pred, y_true):\n",
    "    from sklearn.metrics import matthews_corrcoef\n",
    "\n",
    "    y_pred_binary = (y_pred > 0.5).astype(int)\n",
    "    mcc = matthews_corrcoef(y_true, y_pred_binary)\n",
    "    return \"mcc\", mcc, True  # True indicates higher values are betters\n",
    "\n",
    "\n",
    "def objective(trial):\n",
    "    dtrain = xgb.DMatrix(X_train, label=y_train)\n",
    "    dvalid = xgb.DMatrix(X_val, label=y_val)\n",
    "\n",
    "    param = {\n",
    "        \"verbosity\": 0,\n",
    "        \"objective\": \"binary:logistic\",\n",
    "        # use exact for small dataset.\n",
    "        \"tree_method\": \"exact\",\n",
    "        # defines booster, gblinear for linear functions.\n",
    "        \"booster\": trial.suggest_categorical(\"booster\", [\"gbtree\", \"gblinear\", \"dart\"]),\n",
    "        # L2 regularization weight.\n",
    "        \"lambda\": trial.suggest_float(\"lambda\", 1e-8, 1.0, log=True),\n",
    "        # L1 regularization weight.\n",
    "        \"alpha\": trial.suggest_float(\"alpha\", 1e-8, 1.0, log=True),\n",
    "        # sampling ratio for training data.\n",
    "        \"subsample\": trial.suggest_float(\"subsample\", 0.2, 1.0),\n",
    "        # sampling according to each tree.\n",
    "        \"colsample_bytree\": trial.suggest_float(\"colsample_bytree\", 0.2, 1.0),\n",
    "    }\n",
    "\n",
    "    if param[\"booster\"] in [\"gbtree\", \"dart\"]:\n",
    "        # maximum depth of the tree, signifies complexity of the tree.\n",
    "        param[\"max_depth\"] = trial.suggest_int(\"max_depth\", 3, 9, step=2)\n",
    "        # minimum child weight, larger the term more conservative the tree.\n",
    "        param[\"min_child_weight\"] = trial.suggest_int(\"min_child_weight\", 2, 10)\n",
    "        param[\"eta\"] = trial.suggest_float(\"eta\", 1e-8, 1.0, log=True)\n",
    "        # defines how selective algorithm is.\n",
    "        param[\"gamma\"] = trial.suggest_float(\"gamma\", 1e-8, 1.0, log=True)\n",
    "        param[\"grow_policy\"] = trial.suggest_categorical(\n",
    "            \"grow_policy\", [\"depthwise\", \"lossguide\"]\n",
    "        )\n",
    "\n",
    "    if param[\"booster\"] == \"dart\":\n",
    "        param[\"sample_type\"] = trial.suggest_categorical(\n",
    "            \"sample_type\", [\"uniform\", \"weighted\"]\n",
    "        )\n",
    "        param[\"normalize_type\"] = trial.suggest_categorical(\n",
    "            \"normalize_type\", [\"tree\", \"forest\"]\n",
    "        )\n",
    "        param[\"rate_drop\"] = trial.suggest_float(\"rate_drop\", 1e-8, 1.0, log=True)\n",
    "        param[\"skip_drop\"] = trial.suggest_float(\"skip_drop\", 1e-8, 1.0, log=True)\n",
    "\n",
    "    bst = xgb.train(param, dtrain)\n",
    "    preds = bst.predict(dvalid)\n",
    "    pred_labels = np.rint(preds)\n",
    "    accuracy = mcc_eval(pred_labels, y_val)\n",
    "    return accuracy\n",
    "\n",
    "\n",
    "if is_tunning:\n",
    "    # Create or load a study\n",
    "    today = datetime.now(timezone.utc).strftime(\"%Y_%m_%d\")\n",
    "    curr_timestamp = int(datetime.now(timezone.utc).timestamp())\n",
    "    study_name = f\"study\"\n",
    "    study = optuna.create_study(\n",
    "        study_name=study_name,\n",
    "        storage=f\"sqlite:///{study_name}.db\",\n",
    "        direction=\"maximize\",\n",
    "        load_if_exists=True,\n",
    "    )\n",
    "    study.optimize(objective, n_trials=100, timeout=None, show_progress_bar=True)\n",
    "    # Print best trial\n",
    "    best_trial = study.best_trial\n",
    "    print(\"Best trial:\")\n",
    "    print(f\"  {metric}_error:\", best_trial.value)\n",
    "    print(\"  Params: \")\n",
    "    for key, value in best_trial.params.items():\n",
    "        print(\"    {}: {}\".format(key, value))\n",
    "    study_best_params = study.best_params\n",
    "    best_params.update(study_best_params)\n",
    "    best_params"
   ]
  },
  {
   "cell_type": "code",
   "execution_count": null,
   "metadata": {},
   "outputs": [],
   "source": [
    "# # Define custom MCC evaluation function\n",
    "# def mcc_eval(y_pred, train_data):\n",
    "#     from sklearn.metrics import matthews_corrcoef\n",
    "\n",
    "#     y_true = train_data.get_label()\n",
    "#     y_pred_binary = (y_pred > 0.5).astype(int)\n",
    "#     mcc = matthews_corrcoef(y_true, y_pred_binary)\n",
    "#     return \"mcc\", mcc, True  # True indicates higher values are betters\n",
    "\n",
    "\n",
    "# best_params = {\n",
    "#     \"objective\": \"binary\",\n",
    "#     \"metric\": \"binary_logloss\",\n",
    "#     \"boosting_type\": \"gbdt\",\n",
    "#     \"lambda_l1\": 0.11019458627539475,\n",
    "#     \"lambda_l2\": 0.1554907572643459,\n",
    "#     \"num_leaves\": 256,\n",
    "#     \"learning_rate\": 0.010305818596596942,\n",
    "#     \"feature_fraction\": 0.6278911649411257,\n",
    "#     \"bagging_fraction\": 0.6910499222495768,\n",
    "#     \"bagging_freq\": 9,\n",
    "#     \"min_child_samples\": 37,\n",
    "#     \"reg_alpha\": 0.0037881112342830815,\n",
    "#     \"reg_lambda\": 0.9245246490277238,\n",
    "#     \"max_depth\": 25,\n",
    "# }\n",
    "# print(\"Training best model...\")\n",
    "# final_model = lgb.train(\n",
    "#     params=best_params,\n",
    "#     train_set=train_data,\n",
    "#     valid_sets=[valid_data],\n",
    "#     feval=mcc_eval,\n",
    "#     num_boost_round=4000,\n",
    "#     callbacks=[\n",
    "#         lgb.early_stopping(stopping_rounds=100, verbose=True),\n",
    "#         lgb.log_evaluation(period=50, show_stdv=True),\n",
    "#     ],\n",
    "# )\n",
    "# feature_importances = final_model.feature_importance()\n",
    "# y_pred = final_model.predict(X_test)"
   ]
  },
  {
   "cell_type": "code",
   "execution_count": null,
   "metadata": {},
   "outputs": [],
   "source": [
    "study.best_params"
   ]
  },
  {
   "cell_type": "code",
   "execution_count": null,
   "metadata": {},
   "outputs": [],
   "source": [
    "y_pred_prob = final_model.predict(X_test)\n",
    "y_pred = (y_pred_prob > 0.5).astype(int)\n",
    "classes = [label_encoder.inverse_transform(p)[0] for p in y_pred]"
   ]
  },
  {
   "cell_type": "code",
   "execution_count": null,
   "metadata": {},
   "outputs": [],
   "source": [
    "submit_df = pd.DataFrame()\n",
    "submit_df[\"id\"] = test[\"id\"]\n",
    "submit_df[\"class\"] = classes\n",
    "submit_df.to_csv(\"submission.csv\", index=False)"
   ]
  }
 ],
 "metadata": {
  "kernelspec": {
   "display_name": "ken",
   "language": "python",
   "name": "python3"
  },
  "language_info": {
   "codemirror_mode": {
    "name": "ipython",
    "version": 3
   },
   "file_extension": ".py",
   "mimetype": "text/x-python",
   "name": "python",
   "nbconvert_exporter": "python",
   "pygments_lexer": "ipython3",
   "version": "3.11.0"
  }
 },
 "nbformat": 4,
 "nbformat_minor": 2
}
