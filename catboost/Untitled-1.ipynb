{
 "cells": [
  {
   "cell_type": "code",
   "execution_count": 1,
   "metadata": {},
   "outputs": [],
   "source": [
    "import numpy\n",
    "from catboost import CatBoostRegressor, cv, Pool\n",
    "import polars as pl\n",
    "# task_type=\"GPU\",devices='0'"
   ]
  },
  {
   "cell_type": "code",
   "execution_count": null,
   "metadata": {},
   "outputs": [],
   "source": [
    "train = pl.scan"
   ]
  },
  {
   "cell_type": "code",
   "execution_count": 3,
   "metadata": {},
   "outputs": [
    {
     "data": {
      "application/vnd.jupyter.widget-view+json": {
       "model_id": "c60bafb7f9814e56b98187328c9a0edb",
       "version_major": 2,
       "version_minor": 0
      },
      "text/plain": [
       "MetricVisualizer(layout=Layout(align_self='stretch', height='500px'))"
      ]
     },
     "metadata": {},
     "output_type": "display_data"
    },
    {
     "name": "stdout",
     "output_type": "stream",
     "text": [
      "Training on fold [0/2]\n",
      "\n",
      "bestTest = 0.5738373179\n",
      "bestIteration = 84\n",
      "\n",
      "Training on fold [1/2]\n",
      "\n",
      "bestTest = 0.693188484\n",
      "bestIteration = 0\n",
      "\n"
     ]
    }
   ],
   "source": [
    "cv_data = [\n",
    "    [\"France\", 1924, 44],\n",
    "    [\"USA\", 1932, 37],\n",
    "    [\"Switzerland\", 1928, 25],\n",
    "    [\"Norway\", 1952, 30],\n",
    "    [\"Japan\", 1972, 35],\n",
    "    [\"Mexico\", 1968, 112],\n",
    "]\n",
    "\n",
    "labels = [1, 1, 0, 0, 0, 1]\n",
    "\n",
    "cat_features = [0]\n",
    "\n",
    "cv_dataset = Pool(data=cv_data, label=labels, cat_features=cat_features)\n",
    "\n",
    "params = {\n",
    "    \"iterations\": 100,\n",
    "    \"depth\": 2,\n",
    "    \"loss_function\": \"Logloss\",\n",
    "    \"verbose\": False,\n",
    "    # \"task_type\": \"GPU\",\n",
    "    # \"devices\": \"0\",\n",
    "}\n",
    "\n",
    "scores = cv(cv_dataset, params, fold_count=2, plot=\"True\")"
   ]
  },
  {
   "cell_type": "code",
   "execution_count": null,
   "metadata": {},
   "outputs": [],
   "source": []
  }
 ],
 "metadata": {
  "kernelspec": {
   "display_name": "kaggle",
   "language": "python",
   "name": "python3"
  },
  "language_info": {
   "codemirror_mode": {
    "name": "ipython",
    "version": 3
   },
   "file_extension": ".py",
   "mimetype": "text/x-python",
   "name": "python",
   "nbconvert_exporter": "python",
   "pygments_lexer": "ipython3",
   "version": "3.11.9"
  }
 },
 "nbformat": 4,
 "nbformat_minor": 2
}
