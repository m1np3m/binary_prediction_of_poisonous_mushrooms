{
 "cells": [
  {
   "cell_type": "code",
   "execution_count": 1,
   "metadata": {
    "notebookRunGroups": {
     "groupValue": ""
    }
   },
   "outputs": [],
   "source": [
    "import pandas as pd\n",
    "import numpy as np\n",
    "import random\n",
    "import optuna\n",
    "import sys, os\n",
    "from datetime import datetime, timezone\n",
    "from catboost import Pool, cv\n",
    "from sklearn.preprocessing import LabelBinarizer\n",
    "\n",
    "# data\n",
    "train_path = \"../../data/train.csv\"\n",
    "test_path = \"../../data/train.csv\"\n",
    "# helpers\n",
    "sys.path.append(\"..\")\n",
    "from helpers.loss_functions import *\n",
    "\n",
    "SEED = 108\n",
    "random.seed(SEED)\n",
    "N_FOLDS = 5\n",
    "early_stop = 50\n",
    "iterations = 1000"
   ]
  },
  {
   "cell_type": "code",
   "execution_count": 2,
   "metadata": {},
   "outputs": [
    {
     "name": "stdout",
     "output_type": "stream",
     "text": [
      "train size: (3116945, 22)\n",
      "test size: (3116945, 22)\n"
     ]
    },
    {
     "data": {
      "text/plain": [
       "0"
      ]
     },
     "execution_count": 2,
     "metadata": {},
     "output_type": "execute_result"
    }
   ],
   "source": [
    "# Prepare data\n",
    "train = pd.read_csv(train_path)\n",
    "print(f\"train size: {train.shape}\")\n",
    "X_test = pd.read_csv(test_path)\n",
    "print(f\"test size: {X_test.shape}\")\n",
    "X_test.drop(columns=[\"id\"], inplace=True)\n",
    "\n",
    "# prepare columns\n",
    "target = \"class\"\n",
    "\n",
    "X_train = train.drop(columns=[target, \"id\"], axis=1)\n",
    "y_train = train[target]\n",
    "# Binarize the target labels\n",
    "lb = LabelBinarizer()\n",
    "\n",
    "y_train = lb.fit_transform(y_train)\n",
    "\n",
    "# X_train, X_val, y_train, y_val = train_test_split(\n",
    "#     X_train, y_train, test_size=0.2, random_state=42\n",
    "# )\n",
    "\n",
    "\n",
    "# Category handling\n",
    "X_train, categorical_training_cols = handle_categorical_columns(X_train)\n",
    "X_test, categorical_test_cols = handle_categorical_columns(X_test)\n",
    "# X_val, categorical_val_cols = handle_categorical_columns(X_val)\n",
    "# test_pool = Pool(\n",
    "#     X_test,\n",
    "#     cat_features=categorical_test_cols,\n",
    "# )\n",
    "gc.collect()"
   ]
  },
  {
   "cell_type": "code",
   "execution_count": 3,
   "metadata": {},
   "outputs": [],
   "source": [
    "def objective(trial):\n",
    "    import gc\n",
    "    from tqdm import tqdm\n",
    "    from sklearn.model_selection import StratifiedKFold\n",
    "    from sklearn.preprocessing import LabelBinarizer\n",
    "    from sklearn.model_selection import train_test_split\n",
    "\n",
    "    # Hyper params\n",
    "    param = {\n",
    "        \"loss_function\": \"Logloss\",\n",
    "        \"iterations\": iterations,\n",
    "        \"task_type\": \"GPU\",\n",
    "        \"min_data_in_leaf\": trial.suggest_int(\"min_data_in_leaf\", 1, 15),\n",
    "        \"depth\": trial.suggest_int(\"depth\", 1, 15),\n",
    "        \"l2_leaf_reg\": trial.suggest_float(\"l2_leaf_reg\", 0.001, 10.0),\n",
    "        \"learning_rate\": trial.suggest_float(\"learning_rate\", 0.001, 0.1),\n",
    "        \"bagging_temperature\": trial.suggest_float(\n",
    "            \"bagging_temperature\", 0.1, 1.0\n",
    "        ),  # 1\n",
    "        \"random_strength\": trial.suggest_float(\"random_strength\", 0.1, 1.0),\n",
    "    }\n",
    "\n",
    "    gc.collect()\n",
    "    skf = StratifiedKFold(n_splits=N_FOLDS)\n",
    "\n",
    "    y_preds = []\n",
    "    y_trues = []\n",
    "    X = X_train.to_numpy()\n",
    "    for train_index, test_index in tqdm(skf.split(X, y_train)):\n",
    "        X_train_splitted, X_test_splitted = (\n",
    "            X_train.loc[train_index],\n",
    "            X_train.loc[test_index],\n",
    "        )\n",
    "        y_train_splitted, y_test_splitted = y_train[train_index], y_train[test_index]\n",
    "\n",
    "        train_pool = Pool(\n",
    "            X_train_splitted,\n",
    "            label=y_train_splitted,\n",
    "            cat_features=categorical_training_cols,\n",
    "        )\n",
    "        val_pool = Pool(\n",
    "            X_test_splitted,\n",
    "            label=y_test_splitted,\n",
    "            cat_features=categorical_training_cols,\n",
    "        )\n",
    "\n",
    "        model = CatBoostClassifier(**param)\n",
    "        # train the model\n",
    "        model.fit(\n",
    "            train_pool,\n",
    "            use_best_model=True,\n",
    "            eval_set=val_pool,\n",
    "            metric_period=100,\n",
    "            early_stopping_rounds=50,\n",
    "        )\n",
    "        y_pred = model.predict(val_pool)\n",
    "        y_preds.append(y_pred)\n",
    "        y_trues.append(y_test_splitted)\n",
    "    # Concatenate the predictions and true labels\n",
    "    y_preds_concat = np.concatenate(y_preds)\n",
    "    y_trues_concat = np.concatenate(y_trues)\n",
    "    mcc = matthews_corrcoef(y_trues_concat, y_preds_concat)\n",
    "    return mcc"
   ]
  },
  {
   "cell_type": "code",
   "execution_count": 4,
   "metadata": {},
   "outputs": [
    {
     "name": "stderr",
     "output_type": "stream",
     "text": [
      "[I 2024-08-19 15:52:21,324] Using an existing study with name 'catboost_study' instead of creating a new one.\n"
     ]
    },
    {
     "data": {
      "application/vnd.jupyter.widget-view+json": {
       "model_id": "ba028fc59adc4cf8b0c10af626b6a176",
       "version_major": 2,
       "version_minor": 0
      },
      "text/plain": [
       "  0%|          | 0/100 [00:00<?, ?it/s]"
      ]
     },
     "metadata": {},
     "output_type": "display_data"
    },
    {
     "name": "stderr",
     "output_type": "stream",
     "text": []
    },
    {
     "name": "stdout",
     "output_type": "stream",
     "text": [
      "0:\tlearn: 0.6785258\ttest: 0.6784735\tbest: 0.6784735 (0)\ttotal: 553ms\tremaining: 9m 12s\n",
      "100:\tlearn: 0.1124766\ttest: 0.1121549\tbest: 0.1121549 (100)\ttotal: 1m 8s\tremaining: 10m 5s\n",
      "200:\tlearn: 0.0599099\ttest: 0.0599432\tbest: 0.0599432 (200)\ttotal: 2m 14s\tremaining: 8m 53s\n",
      "300:\tlearn: 0.0479607\ttest: 0.0481908\tbest: 0.0481908 (300)\ttotal: 3m 22s\tremaining: 7m 49s\n",
      "400:\tlearn: 0.0442769\ttest: 0.0445742\tbest: 0.0445742 (400)\ttotal: 4m 27s\tremaining: 6m 39s\n",
      "500:\tlearn: 0.0426825\ttest: 0.0430229\tbest: 0.0430229 (500)\ttotal: 5m 32s\tremaining: 5m 30s\n",
      "600:\tlearn: 0.0417971\ttest: 0.0421755\tbest: 0.0421755 (600)\ttotal: 6m 36s\tremaining: 4m 23s\n",
      "700:\tlearn: 0.0411706\ttest: 0.0415663\tbest: 0.0415663 (700)\ttotal: 7m 39s\tremaining: 3m 16s\n",
      "800:\tlearn: 0.0408096\ttest: 0.0412302\tbest: 0.0412302 (800)\ttotal: 8m 39s\tremaining: 2m 8s\n",
      "900:\tlearn: 0.0405293\ttest: 0.0409675\tbest: 0.0409675 (900)\ttotal: 9m 35s\tremaining: 1m 3s\n",
      "999:\tlearn: 0.0403050\ttest: 0.0407674\tbest: 0.0407674 (998)\ttotal: 10m 26s\tremaining: 0us\n",
      "bestTest = 0.04076740707\n",
      "bestIteration = 998\n",
      "Shrink model to first 999 iterations.\n"
     ]
    },
    {
     "name": "stderr",
     "output_type": "stream",
     "text": []
    },
    {
     "name": "stdout",
     "output_type": "stream",
     "text": [
      "0:\tlearn: 0.6784737\ttest: 0.6785487\tbest: 0.6785487 (0)\ttotal: 551ms\tremaining: 9m 10s\n",
      "100:\tlearn: 0.1148892\ttest: 0.1147686\tbest: 0.1147686 (100)\ttotal: 1m 7s\tremaining: 10m 4s\n",
      "200:\tlearn: 0.0620380\ttest: 0.0620527\tbest: 0.0620527 (200)\ttotal: 2m 11s\tremaining: 8m 42s\n",
      "300:\tlearn: 0.0492553\ttest: 0.0493512\tbest: 0.0493512 (300)\ttotal: 3m 17s\tremaining: 7m 37s\n",
      "400:\tlearn: 0.0446202\ttest: 0.0447768\tbest: 0.0447768 (400)\ttotal: 4m 24s\tremaining: 6m 35s\n",
      "500:\tlearn: 0.0426983\ttest: 0.0428869\tbest: 0.0428869 (500)\ttotal: 5m 29s\tremaining: 5m 28s\n",
      "600:\tlearn: 0.0415437\ttest: 0.0417684\tbest: 0.0417684 (600)\ttotal: 6m 33s\tremaining: 4m 21s\n",
      "700:\tlearn: 0.0410618\ttest: 0.0413011\tbest: 0.0413011 (700)\ttotal: 7m 33s\tremaining: 3m 13s\n",
      "800:\tlearn: 0.0406427\ttest: 0.0409108\tbest: 0.0409108 (800)\ttotal: 8m 35s\tremaining: 2m 8s\n",
      "900:\tlearn: 0.0402613\ttest: 0.0405476\tbest: 0.0405476 (899)\ttotal: 9m 40s\tremaining: 1m 3s\n",
      "999:\tlearn: 0.0399647\ttest: 0.0402701\tbest: 0.0402701 (999)\ttotal: 10m 40s\tremaining: 0us\n",
      "bestTest = 0.04027005008\n",
      "bestIteration = 999\n"
     ]
    },
    {
     "name": "stderr",
     "output_type": "stream",
     "text": []
    },
    {
     "name": "stdout",
     "output_type": "stream",
     "text": [
      "0:\tlearn: 0.6786203\ttest: 0.6785998\tbest: 0.6785998 (0)\ttotal: 548ms\tremaining: 9m 7s\n",
      "100:\tlearn: 0.1098603\ttest: 0.1095368\tbest: 0.1095368 (100)\ttotal: 1m 8s\tremaining: 10m 12s\n",
      "200:\tlearn: 0.0610737\ttest: 0.0607945\tbest: 0.0607945 (200)\ttotal: 2m 13s\tremaining: 8m 49s\n",
      "300:\tlearn: 0.0482550\ttest: 0.0480239\tbest: 0.0480239 (300)\ttotal: 3m 20s\tremaining: 7m 46s\n",
      "400:\tlearn: 0.0443782\ttest: 0.0442557\tbest: 0.0442557 (400)\ttotal: 4m 29s\tremaining: 6m 42s\n",
      "500:\tlearn: 0.0428271\ttest: 0.0427465\tbest: 0.0427465 (500)\ttotal: 5m 30s\tremaining: 5m 29s\n"
     ]
    }
   ],
   "source": [
    "# Create or load a study\n",
    "today = datetime.now(timezone.utc).strftime(\"%Y_%m_%d\")\n",
    "curr_timestamp = int(datetime.now(timezone.utc).timestamp())\n",
    "study_name = f\"catboost_study\"\n",
    "study = optuna.create_study(\n",
    "    study_name=study_name,\n",
    "    storage=f\"sqlite:///{study_name}.db\",\n",
    "    direction=\"maximize\",\n",
    "    load_if_exists=True,\n",
    ")\n",
    "study.optimize(objective, n_trials=100, show_progress_bar=True)\n",
    "\n",
    "print(\"Number of finished trials: {}\".format(len(study.trials)))\n",
    "\n",
    "print(\"Best trial:\")\n",
    "trial = study.best_trial\n",
    "\n",
    "print(\"  Value: {}\".format(trial.value))\n",
    "\n",
    "print(\"  Params: \")\n",
    "for key, value in trial.params.items():\n",
    "    print(\"    {}: {}\".format(key, value))"
   ]
  }
 ],
 "metadata": {
  "kernelspec": {
   "display_name": "kaggle",
   "language": "python",
   "name": "python3"
  },
  "language_info": {
   "codemirror_mode": {
    "name": "ipython",
    "version": 3
   },
   "file_extension": ".py",
   "mimetype": "text/x-python",
   "name": "python",
   "nbconvert_exporter": "python",
   "pygments_lexer": "ipython3",
   "version": "3.11.9"
  }
 },
 "nbformat": 4,
 "nbformat_minor": 2
}
