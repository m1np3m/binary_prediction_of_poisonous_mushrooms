{
 "cells": [
  {
   "cell_type": "code",
   "execution_count": 1,
   "metadata": {},
   "outputs": [],
   "source": [
    "import numpy\n",
    "import sys, os\n",
    "from catboost import CatBoostRegressor, cv, Pool, CatBoostClassifier\n",
    "import polars as pl\n",
    "import pandas as pd\n",
    "\n",
    "# import seaborn as sns\n",
    "import matplotlib.pyplot as plt\n",
    "import gc\n",
    "import numpy as np\n",
    "import joblib as jl\n",
    "from sklearn.pipeline import Pipeline\n",
    "from sklearn.compose import ColumnTransformer\n",
    "from sklearn.preprocessing import (\n",
    "    MinMaxScaler,\n",
    "    OrdinalEncoder,\n",
    "    LabelBinarizer,\n",
    "    OneHotEncoder,\n",
    "    StandardScaler,\n",
    ")\n",
    "from sklearn.metrics import matthews_corrcoef\n",
    "\n",
    "from sklearn.impute import SimpleImputer\n",
    "import xgboost as xgb\n",
    "from sklearn.model_selection import train_test_split\n",
    "import random\n",
    "from datetime import datetime\n",
    "\n",
    "# helpers\n",
    "sys.path.append(\"..\")\n",
    "from helpers.loss_functions import (\n",
    "    update_submission,\n",
    "    finalize_submission,\n",
    "    handle_categorical_columns,\n",
    ")\n",
    "\n",
    "now = int(datetime.now().timestamp())\n",
    "SEED = 108\n",
    "random.seed(SEED)\n",
    "\n",
    "N_FOLDS = 12\n",
    "early_stop = 100\n",
    "iterations = 10000\n",
    "is_dshub = os.getenv(\"NB_USER\", False)\n",
    "if is_dshub:\n",
    "    train_path = \"../../data/train.csv\"\n",
    "    test_path = \"../../data/test.csv\"\n",
    "else:\n",
    "    train_path = \"/home/manpm/Developers/kaggle/data/mushrooms/train.csv\"\n",
    "    test_path = \"/home/manpm/Developers/kaggle/data/mushrooms/test.csv\""
   ]
  },
  {
   "cell_type": "code",
   "execution_count": 2,
   "metadata": {},
   "outputs": [
    {
     "name": "stderr",
     "output_type": "stream",
     "text": [
      "/tmp/ipykernel_7595/1904636617.py:3: PerformanceWarning: Determining the column names of a LazyFrame requires resolving its schema, which is a potentially expensive operation. Use `LazyFrame.collect_schema().names()` to get the column names without this warning.\n",
      "  categorical_cols = train.select(pl.col(pl.Utf8)).columns\n"
     ]
    },
    {
     "data": {
      "text/plain": [
       "['cap-shape',\n",
       " 'cap-surface',\n",
       " 'cap-color',\n",
       " 'does-bruise-or-bleed',\n",
       " 'gill-attachment',\n",
       " 'gill-spacing',\n",
       " 'gill-color',\n",
       " 'stem-root',\n",
       " 'stem-surface',\n",
       " 'stem-color',\n",
       " 'veil-type',\n",
       " 'veil-color',\n",
       " 'has-ring',\n",
       " 'ring-type',\n",
       " 'spore-print-color',\n",
       " 'habitat',\n",
       " 'season']"
      ]
     },
     "execution_count": 2,
     "metadata": {},
     "output_type": "execute_result"
    }
   ],
   "source": [
    "# Prepare data\n",
    "train = pl.scan_parquet(\"../train_fold.parquet\")\n",
    "categorical_cols = train.select(pl.col(pl.Utf8)).columns\n",
    "categorical_cols.pop(0)\n",
    "gc.collect()\n",
    "categorical_cols"
   ]
  },
  {
   "cell_type": "markdown",
   "metadata": {},
   "source": [
    "## predict"
   ]
  },
  {
   "cell_type": "code",
   "execution_count": 3,
   "metadata": {},
   "outputs": [],
   "source": [
    "# train_pool = Pool(\n",
    "#     X_train_splitted,\n",
    "#     label=y_train_splitted,\n",
    "#     cat_features=categorical_training_cols,\n",
    "# )\n",
    "# val_pool = Pool(\n",
    "#     X_test_splitted,\n",
    "#     label=y_test_splitted,\n",
    "#     cat_features=categorical_training_cols,\n",
    "# )\n",
    "params = {\n",
    "    \"loss_function\": \"Logloss\",\n",
    "    \"iterations\": iterations,\n",
    "    \"min_data_in_leaf\": 15,\n",
    "    \"task_type\": \"GPU\",\n",
    "    \"depth\": 15,\n",
    "    \"l2_leaf_reg\": 5.923260155898824,\n",
    "    \"learning_rate\": 0.06953515790615505,\n",
    "    \"bagging_temperature\": 0.270792508445483,\n",
    "    \"random_strength\": 0.8745583257807371,\n",
    "}\n",
    "\n",
    "# model = CatBoostClassifier(**params)\n",
    "# # train the model\n",
    "# model.fit(\n",
    "#     train_pool,\n",
    "#     use_best_model=True,\n",
    "#     eval_set=val_pool,\n",
    "#     metric_period=100,\n",
    "#     early_stopping_rounds=50,\n",
    "# )\n",
    "# y_pred = model.predict(val_pool)"
   ]
  },
  {
   "cell_type": "code",
   "execution_count": 4,
   "metadata": {},
   "outputs": [
    {
     "data": {
      "application/vnd.jupyter.widget-view+json": {
       "model_id": "a246e8a95a714da0b027ecb334333727",
       "version_major": 2,
       "version_minor": 0
      },
      "text/plain": [
       "MetricVisualizer(layout=Layout(align_self='stretch', height='500px'))"
      ]
     },
     "metadata": {},
     "output_type": "display_data"
    },
    {
     "name": "stdout",
     "output_type": "stream",
     "text": [
      "0:\tlearn: 0.6595960\ttest: 0.6595790\tbest: 0.6595790 (0)\ttotal: 537ms\tremaining: 26.3s\n",
      "49:\tlearn: 0.0432884\ttest: 0.0444094\tbest: 0.0444094 (49)\ttotal: 26.1s\tremaining: 0us\n",
      "bestTest = 0.04440938526\n",
      "bestIteration = 49\n"
     ]
    },
    {
     "data": {
      "application/vnd.jupyter.widget-view+json": {
       "model_id": "267e5bcc5dd24b0194f48d18437c2295",
       "version_major": 2,
       "version_minor": 0
      },
      "text/plain": [
       "MetricVisualizer(layout=Layout(align_self='stretch', height='500px'))"
      ]
     },
     "metadata": {},
     "output_type": "display_data"
    },
    {
     "name": "stdout",
     "output_type": "stream",
     "text": [
      "0:\tlearn: 0.6603158\ttest: 0.6604556\tbest: 0.6604556 (0)\ttotal: 530ms\tremaining: 26s\n",
      "49:\tlearn: 0.0431987\ttest: 0.0443903\tbest: 0.0443903 (49)\ttotal: 26.3s\tremaining: 0us\n",
      "bestTest = 0.04439033302\n",
      "bestIteration = 49\n"
     ]
    },
    {
     "data": {
      "text/plain": [
       "['catboost_clf_1724164216.pkl']"
      ]
     },
     "execution_count": 4,
     "metadata": {},
     "output_type": "execute_result"
    }
   ],
   "source": [
    "y_preds = []\n",
    "y_trues = []\n",
    "for idx in range(N_FOLDS):\n",
    "    X_train = (\n",
    "        train.filter(pl.col(\"fold\") != idx)\n",
    "        .drop([\"id\", \"class\"])\n",
    "        .fill_null(\"other\")\n",
    "        .drop([\"fold\"])\n",
    "        .collect()\n",
    "        .to_pandas()\n",
    "    )\n",
    "    for c in categorical_cols:\n",
    "        value_counts = (\n",
    "            X_train.groupby(c)\n",
    "            .agg(pl.count().alias(f\"{c}_count\"))\n",
    "            .sort(f\"{c}_count\", reverse=True)\n",
    "            .select(c)\n",
    "            .head(5)\n",
    "        )\n",
    "    y_train = (\n",
    "        train.filter(pl.col(\"fold\") != idx).select(pl.col(\"class\")).collect().to_numpy()\n",
    "    )\n",
    "\n",
    "    X_val = (\n",
    "        train.filter(pl.col(\"fold\") == idx)\n",
    "        .drop([\"id\", \"class\"])\n",
    "        .fill_null(\"other\")\n",
    "        .drop([\"fold\"])\n",
    "        .collect()\n",
    "        .to_pandas()\n",
    "    )\n",
    "    y_val = (\n",
    "        train.filter(pl.col(\"fold\") == idx).select(pl.col(\"class\")).collect().to_numpy()\n",
    "    )\n",
    "\n",
    "    train_pool = Pool(\n",
    "        X_train,\n",
    "        label=y_train,\n",
    "        cat_features=categorical_cols,\n",
    "    )\n",
    "    val_pool = Pool(\n",
    "        X_val,\n",
    "        label=y_val,\n",
    "        cat_features=categorical_cols,\n",
    "    )\n",
    "\n",
    "    model = CatBoostClassifier(**params)\n",
    "    # train the model\n",
    "    model.fit(\n",
    "        train_pool,\n",
    "        use_best_model=True,\n",
    "        eval_set=val_pool,\n",
    "        metric_period=50,\n",
    "        early_stopping_rounds=early_stop,\n",
    "        plot=True,\n",
    "    )\n",
    "    y_pred = model.predict(val_pool)\n",
    "    y_preds.append(y_pred)\n",
    "    y_trues.append(y_val)\n",
    "    gc.collect()\n",
    "# Concatenate the predictions and true labels\n",
    "y_preds_concat = np.concatenate(y_preds)\n",
    "y_trues_concat = np.concatenate(y_trues)\n",
    "jl.dump(model, f\"catboost_clf_{now}.pkl\")"
   ]
  },
  {
   "cell_type": "code",
   "execution_count": 5,
   "metadata": {},
   "outputs": [
    {
     "name": "stdout",
     "output_type": "stream",
     "text": [
      "Validation mcc score: 0.9795768449188189\n"
     ]
    }
   ],
   "source": [
    "mcc = matthews_corrcoef(y_trues_concat, y_preds_concat)\n",
    "print(f\"Validation mcc score: {mcc}\")"
   ]
  },
  {
   "cell_type": "code",
   "execution_count": 6,
   "metadata": {},
   "outputs": [],
   "source": [
    "X_test = (\n",
    "    pl.scan_csv(test_path)\n",
    "    .drop(\n",
    "        [\n",
    "            \"id\",\n",
    "        ]\n",
    "    )\n",
    "    .fill_null(\"other\")\n",
    "    .collect()\n",
    "    .to_pandas()\n",
    ")"
   ]
  },
  {
   "cell_type": "code",
   "execution_count": 7,
   "metadata": {},
   "outputs": [],
   "source": [
    "update_submission(\n",
    "    model=model,\n",
    "    X_test=X_test,\n",
    "    unique_target_values=[\"e\", \"p\"],\n",
    "    categorical_cols=categorical_cols,\n",
    ")\n",
    "finalize_submission(strategy=\"mean\")"
   ]
  }
 ],
 "metadata": {
  "kernelspec": {
   "display_name": "kaggle",
   "language": "python",
   "name": "python3"
  },
  "language_info": {
   "codemirror_mode": {
    "name": "ipython",
    "version": 3
   },
   "file_extension": ".py",
   "mimetype": "text/x-python",
   "name": "python",
   "nbconvert_exporter": "python",
   "pygments_lexer": "ipython3",
   "version": "3.11.9"
  }
 },
 "nbformat": 4,
 "nbformat_minor": 2
}
