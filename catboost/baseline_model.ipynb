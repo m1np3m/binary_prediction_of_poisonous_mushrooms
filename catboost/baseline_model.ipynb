{
 "cells": [
  {
   "cell_type": "code",
   "execution_count": 1,
   "metadata": {},
   "outputs": [],
   "source": [
    "import numpy\n",
    "import sys, os\n",
    "from catboost import CatBoostRegressor, cv, Pool, CatBoostClassifier\n",
    "import polars as pl\n",
    "import pandas as pd\n",
    "import seaborn as sns\n",
    "import matplotlib.pyplot as plt\n",
    "import gc\n",
    "import numpy as np\n",
    "import joblib as jl\n",
    "from sklearn.pipeline import Pipeline\n",
    "from sklearn.compose import ColumnTransformer\n",
    "from sklearn.preprocessing import (\n",
    "    MinMaxScaler,\n",
    "    OrdinalEncoder,\n",
    "    LabelBinarizer,\n",
    "    OneHotEncoder,\n",
    "    StandardScaler,\n",
    ")\n",
    "from sklearn.metrics import matthews_corrcoef\n",
    "\n",
    "from sklearn.impute import SimpleImputer\n",
    "import xgboost as xgb\n",
    "from sklearn.model_selection import train_test_split\n",
    "import random\n",
    "from datetime import datetime\n",
    "\n",
    "# helpers\n",
    "sys.path.append(\"..\")\n",
    "from helpers.loss_functions import (\n",
    "    update_submission,\n",
    "    finalize_submission\n",
    ")\n",
    "\n",
    "now = int(datetime.now().timestamp())\n",
    "SEED = 108\n",
    "N_FOLDS = 5\n",
    "random.seed(SEED)\n",
    "train_path = \"/home/manpm/Developers/kaggle/data/mushrooms/train.csv\"\n",
    "test_path = \"/home/manpm/Developers/kaggle/data/mushrooms/test.csv\""
   ]
  },
  {
   "cell_type": "code",
   "execution_count": 2,
   "metadata": {},
   "outputs": [],
   "source": [
    "def handle_categorical_columns(df: pd.DataFrame, n_common_values=15):\n",
    "    categorical_cols = df.select_dtypes(include=\"object\").columns.to_list()\n",
    "    # get top 10 most frequent names\n",
    "    n = n_common_values\n",
    "    for c in categorical_cols:\n",
    "        train_mode_values = df[c].value_counts()[:n].index.tolist()\n",
    "        df.loc[~df[c].isin(train_mode_values), c] = \"other\"\n",
    "        df[c] = pd.Series(df[c], dtype=\"category\")\n",
    "        gc.collect()\n",
    "    return df, categorical_cols"
   ]
  },
  {
   "cell_type": "code",
   "execution_count": 3,
   "metadata": {},
   "outputs": [
    {
     "name": "stdout",
     "output_type": "stream",
     "text": [
      "train size: (3116945, 22)\n",
      "test size: (2077964, 21)\n"
     ]
    },
    {
     "data": {
      "text/plain": [
       "0"
      ]
     },
     "execution_count": 3,
     "metadata": {},
     "output_type": "execute_result"
    }
   ],
   "source": [
    "# Prepare data\n",
    "train = pd.read_csv(train_path)\n",
    "print(f\"train size: {train.shape}\")\n",
    "X_test = pd.read_csv(test_path)\n",
    "print(f\"test size: {X_test.shape}\")\n",
    "X_test.drop(columns=[\"id\"], inplace=True)\n",
    "\n",
    "# prepare columns\n",
    "target = \"class\"\n",
    "\n",
    "X_train = train.drop(columns=[target, \"id\"], axis=1)\n",
    "y_train = train[target]\n",
    "# Binarize the target labels\n",
    "lb = LabelBinarizer()\n",
    "\n",
    "y_train = lb.fit_transform(y_train)\n",
    "\n",
    "# X_train, X_val, y_train, y_val = train_test_split(\n",
    "#     X_train, y_train, test_size=0.2, random_state=42\n",
    "# )\n",
    "\n",
    "\n",
    "# Category handling\n",
    "X_train, categorical_training_cols = handle_categorical_columns(X_train)\n",
    "X_test, categorical_test_cols = handle_categorical_columns(X_test)\n",
    "# X_val, categorical_val_cols = handle_categorical_columns(X_val)\n",
    "# test_pool = Pool(\n",
    "#     X_test,\n",
    "#     cat_features=categorical_test_cols,\n",
    "# )\n",
    "gc.collect()"
   ]
  },
  {
   "cell_type": "code",
   "execution_count": 4,
   "metadata": {},
   "outputs": [
    {
     "data": {
      "text/plain": [
       "['e', 'p']"
      ]
     },
     "execution_count": 4,
     "metadata": {},
     "output_type": "execute_result"
    }
   ],
   "source": [
    "lb.classes_.tolist()"
   ]
  },
  {
   "cell_type": "code",
   "execution_count": 5,
   "metadata": {},
   "outputs": [
    {
     "name": "stderr",
     "output_type": "stream",
     "text": [
      "0it [00:00, ?it/s]"
     ]
    },
    {
     "name": "stdout",
     "output_type": "stream",
     "text": [
      "0:\tlearn: 0.6817333\ttest: 0.6817446\tbest: 0.6817446 (0)\ttotal: 28.6ms\tremaining: 2.83s\n",
      "99:\tlearn: 0.1136983\ttest: 0.1126687\tbest: 0.1126687 (99)\ttotal: 2.67s\tremaining: 0us\n",
      "bestTest = 0.1126687188\n",
      "bestIteration = 99\n"
     ]
    },
    {
     "name": "stderr",
     "output_type": "stream",
     "text": [
      "1it [00:06,  6.27s/it]"
     ]
    },
    {
     "name": "stdout",
     "output_type": "stream",
     "text": [
      "0:\tlearn: 0.6815326\ttest: 0.6815224\tbest: 0.6815224 (0)\ttotal: 26.3ms\tremaining: 2.6s\n",
      "99:\tlearn: 0.1158247\ttest: 0.1151328\tbest: 0.1151328 (99)\ttotal: 2.66s\tremaining: 0us\n",
      "bestTest = 0.1151328032\n",
      "bestIteration = 99\n"
     ]
    },
    {
     "name": "stderr",
     "output_type": "stream",
     "text": [
      "2it [00:12,  6.08s/it]\n"
     ]
    },
    {
     "data": {
      "text/plain": [
       "['catboost_clf_1723952826.pkl']"
      ]
     },
     "execution_count": 5,
     "metadata": {},
     "output_type": "execute_result"
    }
   ],
   "source": [
    "from tqdm import tqdm\n",
    "from sklearn.model_selection import StratifiedKFold\n",
    "\n",
    "gc.collect()\n",
    "skf = StratifiedKFold(n_splits=N_FOLDS)\n",
    "\n",
    "y_preds = []\n",
    "y_trues = []\n",
    "X = X_train.to_numpy()\n",
    "for train_index, test_index in tqdm(skf.split(X, y_train)):\n",
    "    X_train_splitted, X_test_splitted = (\n",
    "        X_train.loc[train_index],\n",
    "        X_train.loc[test_index],\n",
    "    )\n",
    "    y_train_splitted, y_test_splitted = y_train[train_index], y_train[test_index]\n",
    "\n",
    "    train_pool = Pool(\n",
    "        X_train_splitted,\n",
    "        label=y_train_splitted,\n",
    "        cat_features=categorical_training_cols,\n",
    "    )\n",
    "    val_pool = Pool(\n",
    "        X_test_splitted,\n",
    "        label=y_test_splitted,\n",
    "        cat_features=categorical_training_cols,\n",
    "    )\n",
    "    params = {\n",
    "        \"loss_function\": \"Logloss\",\n",
    "        \"iterations\": 10000,\n",
    "        \"min_data_in_leaf\": 12,\n",
    "        \"task_type\": \"GPU\",\n",
    "        \"depth\": 14,\n",
    "        \"l2_leaf_reg\": 5.923260155898824,\n",
    "        \"learning_rate\": 0.09535157906155059,\n",
    "        \"bagging_temperature\": 0.270792508445483,\n",
    "        \"random_strength\": 0.8745583257807371,\n",
    "    }\n",
    "\n",
    "    model = CatBoostClassifier(**params)\n",
    "    # train the model\n",
    "    model.fit(\n",
    "        train_pool,\n",
    "        use_best_model=True,\n",
    "        eval_set=val_pool,\n",
    "        metric_period=100,\n",
    "        early_stopping_rounds=50,\n",
    "    )\n",
    "    y_pred = model.predict(val_pool)\n",
    "    y_preds.append(y_pred)\n",
    "    y_trues.append(y_test_splitted)\n",
    "# Concatenate the predictions and true labels\n",
    "y_preds_concat = np.concatenate(y_preds)\n",
    "y_trues_concat = np.concatenate(y_trues)\n",
    "jl.dump(model, f\"catboost_clf_{now}.pkl\")"
   ]
  },
  {
   "cell_type": "code",
   "execution_count": 6,
   "metadata": {},
   "outputs": [
    {
     "name": "stdout",
     "output_type": "stream",
     "text": [
      "Validation mcc score: 0.9609499372475219\n"
     ]
    }
   ],
   "source": [
    "mcc = matthews_corrcoef(y_trues_concat, y_preds_concat)\n",
    "print(f\"Validation mcc score: {mcc}\")"
   ]
  },
  {
   "cell_type": "code",
   "execution_count": 7,
   "metadata": {},
   "outputs": [],
   "source": [
    "update_submission(\n",
    "    model=model,\n",
    "    X_test=X_test,\n",
    "    unique_target_values=lb.classes_.tolist(),\n",
    "    categorical_cols=categorical_test_cols,\n",
    ")\n",
    "finalize_submission(strategy=\"mean\")"
   ]
  }
 ],
 "metadata": {
  "kernelspec": {
   "display_name": "kaggle",
   "language": "python",
   "name": "python3"
  },
  "language_info": {
   "codemirror_mode": {
    "name": "ipython",
    "version": 3
   },
   "file_extension": ".py",
   "mimetype": "text/x-python",
   "name": "python",
   "nbconvert_exporter": "python",
   "pygments_lexer": "ipython3",
   "version": "3.11.9"
  }
 },
 "nbformat": 4,
 "nbformat_minor": 2
}
