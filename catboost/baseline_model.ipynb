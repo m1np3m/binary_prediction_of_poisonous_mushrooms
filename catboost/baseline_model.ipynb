{
 "cells": [
  {
   "cell_type": "code",
   "execution_count": 1,
   "metadata": {},
   "outputs": [],
   "source": [
    "import numpy\n",
    "import sys, os\n",
    "from catboost import CatBoostRegressor, cv, Pool, CatBoostClassifier\n",
    "import polars as pl\n",
    "import pandas as pd\n",
    "\n",
    "# import seaborn as sns\n",
    "import matplotlib.pyplot as plt\n",
    "import gc\n",
    "import numpy as np\n",
    "import joblib as jl\n",
    "from sklearn.pipeline import Pipeline\n",
    "from sklearn.compose import ColumnTransformer\n",
    "from sklearn.preprocessing import (\n",
    "    MinMaxScaler,\n",
    "    OrdinalEncoder,\n",
    "    LabelBinarizer,\n",
    "    OneHotEncoder,\n",
    "    StandardScaler,\n",
    ")\n",
    "from sklearn.metrics import matthews_corrcoef\n",
    "\n",
    "from sklearn.impute import SimpleImputer\n",
    "import xgboost as xgb\n",
    "from sklearn.model_selection import train_test_split\n",
    "import random\n",
    "from datetime import datetime\n",
    "\n",
    "# helpers\n",
    "sys.path.append(\"..\")\n",
    "from helpers.loss_functions import (\n",
    "    update_submission,\n",
    "    finalize_submission,\n",
    "    handle_categorical_columns,\n",
    ")\n",
    "\n",
    "now = int(datetime.now().timestamp())\n",
    "SEED = 108\n",
    "N_FOLDS = 10\n",
    "early_stop = 50\n",
    "iterations = 200\n",
    "random.seed(SEED)\n",
    "is_dshub = os.getenv(\"NB_USER\", False)\n",
    "if is_dshub:\n",
    "    train_path = \"../../data/train.csv\"\n",
    "    test_path = \"../../data/test.csv\"\n",
    "else:\n",
    "    train_path = \"/home/manpm/Developers/kaggle/data/mushrooms/train.csv\"\n",
    "    test_path = \"/home/manpm/Developers/kaggle/data/mushrooms/test.csv\""
   ]
  },
  {
   "cell_type": "code",
   "execution_count": 2,
   "metadata": {},
   "outputs": [
    {
     "data": {
      "text/plain": [
       "['cap-shape',\n",
       " 'cap-surface',\n",
       " 'cap-color',\n",
       " 'does-bruise-or-bleed',\n",
       " 'gill-attachment',\n",
       " 'gill-spacing',\n",
       " 'gill-color',\n",
       " 'stem-root',\n",
       " 'stem-surface',\n",
       " 'stem-color',\n",
       " 'veil-type',\n",
       " 'veil-color',\n",
       " 'has-ring',\n",
       " 'ring-type',\n",
       " 'spore-print-color',\n",
       " 'habitat',\n",
       " 'season']"
      ]
     },
     "execution_count": 2,
     "metadata": {},
     "output_type": "execute_result"
    }
   ],
   "source": [
    "# Prepare data\n",
    "\n",
    "train = pl.scan_parquet(\"../train_fold.parquet\")\n",
    "categorical_cols = train.select(pl.col(pl.Utf8)).columns\n",
    "categorical_cols.pop(0)\n",
    "gc.collect()\n",
    "categorical_cols"
   ]
  },
  {
   "cell_type": "markdown",
   "metadata": {},
   "source": [
    "## predict"
   ]
  },
  {
   "cell_type": "code",
   "execution_count": 3,
   "metadata": {},
   "outputs": [],
   "source": [
    "# train_pool = Pool(\n",
    "#     X_train_splitted,\n",
    "#     label=y_train_splitted,\n",
    "#     cat_features=categorical_training_cols,\n",
    "# )\n",
    "# val_pool = Pool(\n",
    "#     X_test_splitted,\n",
    "#     label=y_test_splitted,\n",
    "#     cat_features=categorical_training_cols,\n",
    "# )\n",
    "params = {\n",
    "    \"loss_function\": \"Logloss\",\n",
    "    \"iterations\": iterations,\n",
    "    \"min_data_in_leaf\": 12,\n",
    "    \"task_type\": \"GPU\",\n",
    "    \"depth\": 14,\n",
    "    \"l2_leaf_reg\": 5.923260155898824,\n",
    "    \"learning_rate\": 0.09535157906155059,\n",
    "    \"bagging_temperature\": 0.270792508445483,\n",
    "    \"random_strength\": 0.8745583257807371,\n",
    "}\n",
    "\n",
    "# model = CatBoostClassifier(**params)\n",
    "# # train the model\n",
    "# model.fit(\n",
    "#     train_pool,\n",
    "#     use_best_model=True,\n",
    "#     eval_set=val_pool,\n",
    "#     metric_period=100,\n",
    "#     early_stopping_rounds=50,\n",
    "# )\n",
    "# y_pred = model.predict(val_pool)"
   ]
  },
  {
   "cell_type": "code",
   "execution_count": 4,
   "metadata": {},
   "outputs": [
    {
     "data": {
      "application/vnd.jupyter.widget-view+json": {
       "model_id": "e31aa874938245c1b81e936798fd4dff",
       "version_major": 2,
       "version_minor": 0
      },
      "text/plain": [
       "MetricVisualizer(layout=Layout(align_self='stretch', height='500px'))"
      ]
     },
     "metadata": {},
     "output_type": "display_data"
    },
    {
     "name": "stdout",
     "output_type": "stream",
     "text": [
      "0:\tlearn: 0.5139629\ttest: 0.5134956\tbest: 0.5134956 (0)\ttotal: 2.48s\tremaining: 8m 13s\n",
      "50:\tlearn: 0.0373059\ttest: 0.0390976\tbest: 0.0390976 (50)\ttotal: 2m 13s\tremaining: 6m 29s\n",
      "100:\tlearn: 0.0351725\ttest: 0.0376941\tbest: 0.0376941 (100)\ttotal: 4m 7s\tremaining: 4m 2s\n",
      "150:\tlearn: 0.0344083\ttest: 0.0373642\tbest: 0.0373642 (150)\ttotal: 5m 58s\tremaining: 1m 56s\n"
     ]
    }
   ],
   "source": [
    "y_preds = []\n",
    "y_trues = []\n",
    "for idx in range(N_FOLDS):\n",
    "    X_train = (\n",
    "        train.filter(pl.col(\"fold\") != idx)\n",
    "        .drop([\"id\", \"class\"])\n",
    "        .fill_null(\"other\")\n",
    "        .drop([\"fold\"])\n",
    "        .collect()\n",
    "        .to_pandas()\n",
    "    )\n",
    "    y_train = (\n",
    "        train.filter(pl.col(\"fold\") != idx).select(pl.col(\"class\")).collect().to_numpy()\n",
    "    )\n",
    "\n",
    "    X_test = (\n",
    "        train.filter(pl.col(\"fold\") == idx)\n",
    "        .drop([\"id\", \"class\"])\n",
    "        .fill_null(\"other\")\n",
    "        .drop([\"fold\"])\n",
    "        .collect()\n",
    "        .to_pandas()\n",
    "    )\n",
    "    y_test = (\n",
    "        train.filter(pl.col(\"fold\") == idx).select(pl.col(\"class\")).collect().to_numpy()\n",
    "    )\n",
    "\n",
    "    train_pool = Pool(\n",
    "        X_train,\n",
    "        label=y_train,\n",
    "        cat_features=categorical_cols,\n",
    "    )\n",
    "    val_pool = Pool(\n",
    "        X_test,\n",
    "        label=y_test,\n",
    "        cat_features=categorical_cols,\n",
    "    )\n",
    "\n",
    "    model = CatBoostClassifier(**params)\n",
    "    # train the model\n",
    "    model.fit(\n",
    "        train_pool,\n",
    "        use_best_model=True,\n",
    "        eval_set=val_pool,\n",
    "        metric_period=50,\n",
    "        early_stopping_rounds=early_stop,\n",
    "        plot=True,\n",
    "    )\n",
    "    y_pred = model.predict(val_pool)\n",
    "    y_preds.append(y_pred)\n",
    "    y_trues.append(y_test)\n",
    "    gc.collect()\n",
    "# Concatenate the predictions and true labels\n",
    "y_preds_concat = np.concatenate(y_preds)\n",
    "y_trues_concat = np.concatenate(y_trues)\n",
    "jl.dump(model, f\"catboost_clf_{now}.pkl\")"
   ]
  },
  {
   "cell_type": "code",
   "execution_count": null,
   "metadata": {},
   "outputs": [],
   "source": [
    "mcc = matthews_corrcoef(y_trues_concat, y_preds_concat)\n",
    "print(f\"Validation mcc score: {mcc}\")"
   ]
  },
  {
   "cell_type": "code",
   "execution_count": null,
   "metadata": {},
   "outputs": [],
   "source": [
    "model = jl.load(\"catboost_clf_1724155392.pkl\")\n",
    "X_test = (\n",
    "    pl.scan_csv(test_path)\n",
    "    .drop(\n",
    "        [\n",
    "            \"id\",\n",
    "            \"class\",\n",
    "        ]\n",
    "    )\n",
    "    .fill_null(\"other\")\n",
    "    .collect()\n",
    "    .to_pandas()\n",
    ")\n",
    "update_submission(\n",
    "    model=model,\n",
    "    X_test=X_test,\n",
    "    unique_target_values=[\"e\", \"p\"],\n",
    "    categorical_cols=categorical_cols,\n",
    ")\n",
    "finalize_submission(strategy=\"mean\")"
   ]
  }
 ],
 "metadata": {
  "kernelspec": {
   "display_name": "kaggle",
   "language": "python",
   "name": "python3"
  },
  "language_info": {
   "codemirror_mode": {
    "name": "ipython",
    "version": 3
   },
   "file_extension": ".py",
   "mimetype": "text/x-python",
   "name": "python",
   "nbconvert_exporter": "python",
   "pygments_lexer": "ipython3",
   "version": "3.11.9"
  }
 },
 "nbformat": 4,
 "nbformat_minor": 2
}
