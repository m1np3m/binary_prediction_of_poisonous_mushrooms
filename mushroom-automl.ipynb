{
 "cells": [
  {
   "cell_type": "code",
   "execution_count": null,
   "metadata": {},
   "outputs": [],
   "source": [
    "import pandas as pd\n",
    "import numpy as np\n",
    "from autogluon.features.generators import AutoMLPipelineFeatureGenerator\n",
    "from autogluon.common import space\n",
    "\n",
    "# auto_ml_pipeline_feature_generator = AutoMLPipelineFeatureGenerator()"
   ]
  },
  {
   "cell_type": "code",
   "execution_count": null,
   "metadata": {},
   "outputs": [],
   "source": [
    "print(\"loading data\")\n",
    "# Prepare data\n",
    "train = TabularDataset(\"../data/mushrooms/train.csv\")\n",
    "test = TabularDataset(\"../data/mushrooms/test.csv\")\n",
    "\n",
    "XGB = {\n",
    "    \"eta\": space.Real(0.01, 0.2, default=0.1),\n",
    "    \"max_depth\": space.Int(\n",
    "        1, 3, default=2\n",
    "    ),  # Adjusted range to be realistic for max_depth\n",
    "    \"min_child_weight\": space.Int(\n",
    "        1, 30, default=1\n",
    "    ),  # Adjusted range to be realistic for min_child_weight\n",
    "    \"gamma\": space.Real(0.01, 0.2, default=0.1),\n",
    "    \"subsample\": space.Real(0.01, 0.2, default=0.1),\n",
    "    \"colsample_bytree\": space.Real(0, 1, default=0.5),\n",
    "    \"lambda\": space.Real(0.01, 0.2, default=0.1),\n",
    "    \"alpha\": space.Real(0.01, 0.2, default=0.1),\n",
    "}\n",
    "hyperparameters = {  # hyperparameters of each model type\n",
    "    \"XGB\": XGB,\n",
    "}\n",
    "time_limit = 2 * 60  # train various models for ~2 min\n",
    "num_trials = (\n",
    "    5  # try at most 5 different hyperparameter configurations for each type of model\n",
    ")\n",
    "search_strategy = (\n",
    "    \"auto\"  # to tune hyperparameters using random search routine with a local scheduler\n",
    ")\n",
    "\n",
    "hyperparameter_tune_kwargs = (\n",
    "    {  # HPO is not performed unless hyperparameter_tune_kwargs is specified\n",
    "        \"num_trials\": num_trials,\n",
    "        \"scheduler\": \"local\",\n",
    "        \"searcher\": search_strategy,\n",
    "    }\n",
    ")  # Refer to TabularPredictor.fit docstring for all valid values\n",
    "# Training\n",
    "predictor = TabularPredictor(\n",
    "    label=\"class\",\n",
    "    problem_type=\"binary\",\n",
    "    eval_metric=\"log_loss\",\n",
    ").fit(\n",
    "    train_data=train,\n",
    "    time_limit=time_limit,\n",
    "    presets=[\"best_quality\"],\n",
    "    num_gpus=1,\n",
    "    hyperparameters=hyperparameters,\n",
    "    hyperparameter_tune_kwargs=hyperparameter_tune_kwargs,\n",
    ")"
   ]
  }
 ],
 "metadata": {
  "kernelspec": {
   "display_name": "kaggle",
   "language": "python",
   "name": "python3"
  },
  "language_info": {
   "name": "python",
   "version": "3.11.9"
  }
 },
 "nbformat": 4,
 "nbformat_minor": 2
}
